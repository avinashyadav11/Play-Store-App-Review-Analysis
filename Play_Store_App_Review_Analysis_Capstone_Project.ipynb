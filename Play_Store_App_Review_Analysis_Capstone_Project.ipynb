{
  "nbformat": 4,
  "nbformat_minor": 0,
  "metadata": {
    "kernelspec": {
      "display_name": "Python 3",
      "language": "python",
      "name": "python3"
    },
    "language_info": {
      "codemirror_mode": {
        "name": "ipython",
        "version": 3
      },
      "file_extension": ".py",
      "mimetype": "text/x-python",
      "name": "python",
      "nbconvert_exporter": "python",
      "pygments_lexer": "ipython3",
      "version": "3.6.6"
    },
    "colab": {
      "name": "Play Store App Review Analysis - Capstone Project.ipynb",
      "provenance": [],
      "collapsed_sections": [],
      "include_colab_link": true
    }
  },
  "cells": [
    {
      "cell_type": "markdown",
      "metadata": {
        "id": "view-in-github",
        "colab_type": "text"
      },
      "source": [
        "<a href=\"https://colab.research.google.com/github/avinashyadav11/Play-Store-App-Review-Analysis/blob/main/Play_Store_App_Review_Analysis_Capstone_Project.ipynb\" target=\"_parent\"><img src=\"https://colab.research.google.com/assets/colab-badge.svg\" alt=\"Open In Colab\"/></a>"
      ]
    },
    {
      "cell_type": "markdown",
      "metadata": {
        "id": "Y06xIdG26kRF"
      },
      "source": [
        "\n",
        "## <b> The Play Store apps data has enormous potential to drive app-making businesses to success. Actionable insights can be drawn for developers to work on and capture the Android market. </b>\n",
        "\n",
        "## <b> Each app (row) has values for catergory, rating, size, and more. Another dataset contains customer reviews of the android apps.</b>\n",
        "\n",
        "## <b> Explore and analyze the data to discover key factors responsible for app engagement and success. </b>"
      ]
    },
    {
      "cell_type": "markdown",
      "metadata": {
        "id": "6RCYRjI1-E6K"
      },
      "source": [
        "## **Importing useful libraries**"
      ]
    },
    {
      "cell_type": "code",
      "metadata": {
        "id": "dByMsuzT8Tnw"
      },
      "source": [
        "#importing numpy and pandas\n",
        "import pandas as pd\n",
        "import numpy as np\n",
        "import seaborn as sns\n",
        "import matplotlib.pyplot as plt\n",
        "\n",
        "%matplotlib inline\n",
        "import warnings\n",
        "warnings.filterwarnings(\"ignore\")"
      ],
      "execution_count": 108,
      "outputs": []
    },
    {
      "cell_type": "code",
      "metadata": {
        "colab": {
          "base_uri": "https://localhost:8080/"
        },
        "id": "FOKw_bgYyaAA",
        "outputId": "26ea1940-28f4-4494-ee33-68ec1fcabdde"
      },
      "source": [
        "from google.colab import drive\n",
        "drive.mount('/content/drive')"
      ],
      "execution_count": 109,
      "outputs": [
        {
          "output_type": "stream",
          "name": "stdout",
          "text": [
            "Drive already mounted at /content/drive; to attempt to forcibly remount, call drive.mount(\"/content/drive\", force_remount=True).\n"
          ]
        }
      ]
    },
    {
      "cell_type": "code",
      "metadata": {
        "id": "i-J8P1nWz-7H"
      },
      "source": [
        "play_store_data_file_path='/content/drive/MyDrive/Colab Notebooks/Alma Better/EDA/Copy of Play Store Data.csv'"
      ],
      "execution_count": 110,
      "outputs": []
    },
    {
      "cell_type": "code",
      "metadata": {
        "id": "Sx6YMrCR0gBu"
      },
      "source": [
        "user_reviews_file_path= '/content/drive/MyDrive/Colab Notebooks/Alma Better/EDA/Copy of User Reviews.csv'"
      ],
      "execution_count": 111,
      "outputs": []
    },
    {
      "cell_type": "markdown",
      "metadata": {
        "id": "Xbyz-gJ09rXA"
      },
      "source": [
        "**Loading Play store data and user reviews data into dataframe**"
      ]
    },
    {
      "cell_type": "code",
      "metadata": {
        "id": "LI21iIEA0qsH"
      },
      "source": [
        "play_store_df = pd.read_csv(play_store_data_file_path) "
      ],
      "execution_count": 112,
      "outputs": []
    },
    {
      "cell_type": "code",
      "metadata": {
        "id": "Ripcisyq1QmS"
      },
      "source": [
        "user_reviews_df= pd.read_csv(user_reviews_file_path)"
      ],
      "execution_count": 113,
      "outputs": []
    },
    {
      "cell_type": "markdown",
      "metadata": {
        "id": "kQhoiIsZ8iMn"
      },
      "source": [
        "Getting first five rows and last five rows of the dataframe"
      ]
    },
    {
      "cell_type": "code",
      "metadata": {
        "colab": {
          "base_uri": "https://localhost:8080/",
          "height": 287
        },
        "id": "jbxZ67pQ1Z2v",
        "outputId": "c9a21590-fc29-4c74-b7f4-c1762f32f897"
      },
      "source": [
        "play_store_df.head() # head() gives top 5 rows by default. We can mention number of row that we want to display as argument e.g:- head(10)"
      ],
      "execution_count": 114,
      "outputs": [
        {
          "output_type": "execute_result",
          "data": {
            "text/html": [
              "<div>\n",
              "<style scoped>\n",
              "    .dataframe tbody tr th:only-of-type {\n",
              "        vertical-align: middle;\n",
              "    }\n",
              "\n",
              "    .dataframe tbody tr th {\n",
              "        vertical-align: top;\n",
              "    }\n",
              "\n",
              "    .dataframe thead th {\n",
              "        text-align: right;\n",
              "    }\n",
              "</style>\n",
              "<table border=\"1\" class=\"dataframe\">\n",
              "  <thead>\n",
              "    <tr style=\"text-align: right;\">\n",
              "      <th></th>\n",
              "      <th>App</th>\n",
              "      <th>Category</th>\n",
              "      <th>Rating</th>\n",
              "      <th>Reviews</th>\n",
              "      <th>Size</th>\n",
              "      <th>Installs</th>\n",
              "      <th>Type</th>\n",
              "      <th>Price</th>\n",
              "      <th>Content Rating</th>\n",
              "      <th>Genres</th>\n",
              "      <th>Last Updated</th>\n",
              "      <th>Current Ver</th>\n",
              "      <th>Android Ver</th>\n",
              "    </tr>\n",
              "  </thead>\n",
              "  <tbody>\n",
              "    <tr>\n",
              "      <th>0</th>\n",
              "      <td>Photo Editor &amp; Candy Camera &amp; Grid &amp; ScrapBook</td>\n",
              "      <td>ART_AND_DESIGN</td>\n",
              "      <td>4.1</td>\n",
              "      <td>159</td>\n",
              "      <td>19M</td>\n",
              "      <td>10,000+</td>\n",
              "      <td>Free</td>\n",
              "      <td>0</td>\n",
              "      <td>Everyone</td>\n",
              "      <td>Art &amp; Design</td>\n",
              "      <td>January 7, 2018</td>\n",
              "      <td>1.0.0</td>\n",
              "      <td>4.0.3 and up</td>\n",
              "    </tr>\n",
              "    <tr>\n",
              "      <th>1</th>\n",
              "      <td>Coloring book moana</td>\n",
              "      <td>ART_AND_DESIGN</td>\n",
              "      <td>3.9</td>\n",
              "      <td>967</td>\n",
              "      <td>14M</td>\n",
              "      <td>500,000+</td>\n",
              "      <td>Free</td>\n",
              "      <td>0</td>\n",
              "      <td>Everyone</td>\n",
              "      <td>Art &amp; Design;Pretend Play</td>\n",
              "      <td>January 15, 2018</td>\n",
              "      <td>2.0.0</td>\n",
              "      <td>4.0.3 and up</td>\n",
              "    </tr>\n",
              "    <tr>\n",
              "      <th>2</th>\n",
              "      <td>U Launcher Lite – FREE Live Cool Themes, Hide ...</td>\n",
              "      <td>ART_AND_DESIGN</td>\n",
              "      <td>4.7</td>\n",
              "      <td>87510</td>\n",
              "      <td>8.7M</td>\n",
              "      <td>5,000,000+</td>\n",
              "      <td>Free</td>\n",
              "      <td>0</td>\n",
              "      <td>Everyone</td>\n",
              "      <td>Art &amp; Design</td>\n",
              "      <td>August 1, 2018</td>\n",
              "      <td>1.2.4</td>\n",
              "      <td>4.0.3 and up</td>\n",
              "    </tr>\n",
              "    <tr>\n",
              "      <th>3</th>\n",
              "      <td>Sketch - Draw &amp; Paint</td>\n",
              "      <td>ART_AND_DESIGN</td>\n",
              "      <td>4.5</td>\n",
              "      <td>215644</td>\n",
              "      <td>25M</td>\n",
              "      <td>50,000,000+</td>\n",
              "      <td>Free</td>\n",
              "      <td>0</td>\n",
              "      <td>Teen</td>\n",
              "      <td>Art &amp; Design</td>\n",
              "      <td>June 8, 2018</td>\n",
              "      <td>Varies with device</td>\n",
              "      <td>4.2 and up</td>\n",
              "    </tr>\n",
              "    <tr>\n",
              "      <th>4</th>\n",
              "      <td>Pixel Draw - Number Art Coloring Book</td>\n",
              "      <td>ART_AND_DESIGN</td>\n",
              "      <td>4.3</td>\n",
              "      <td>967</td>\n",
              "      <td>2.8M</td>\n",
              "      <td>100,000+</td>\n",
              "      <td>Free</td>\n",
              "      <td>0</td>\n",
              "      <td>Everyone</td>\n",
              "      <td>Art &amp; Design;Creativity</td>\n",
              "      <td>June 20, 2018</td>\n",
              "      <td>1.1</td>\n",
              "      <td>4.4 and up</td>\n",
              "    </tr>\n",
              "  </tbody>\n",
              "</table>\n",
              "</div>"
            ],
            "text/plain": [
              "                                                 App  ...   Android Ver\n",
              "0     Photo Editor & Candy Camera & Grid & ScrapBook  ...  4.0.3 and up\n",
              "1                                Coloring book moana  ...  4.0.3 and up\n",
              "2  U Launcher Lite – FREE Live Cool Themes, Hide ...  ...  4.0.3 and up\n",
              "3                              Sketch - Draw & Paint  ...    4.2 and up\n",
              "4              Pixel Draw - Number Art Coloring Book  ...    4.4 and up\n",
              "\n",
              "[5 rows x 13 columns]"
            ]
          },
          "metadata": {},
          "execution_count": 114
        }
      ]
    },
    {
      "cell_type": "code",
      "metadata": {
        "colab": {
          "base_uri": "https://localhost:8080/",
          "height": 203
        },
        "id": "vwOV7n-I1eJ9",
        "outputId": "1d67eca2-5b36-4205-df0e-05383283491c"
      },
      "source": [
        "user_reviews_df.head()"
      ],
      "execution_count": 115,
      "outputs": [
        {
          "output_type": "execute_result",
          "data": {
            "text/html": [
              "<div>\n",
              "<style scoped>\n",
              "    .dataframe tbody tr th:only-of-type {\n",
              "        vertical-align: middle;\n",
              "    }\n",
              "\n",
              "    .dataframe tbody tr th {\n",
              "        vertical-align: top;\n",
              "    }\n",
              "\n",
              "    .dataframe thead th {\n",
              "        text-align: right;\n",
              "    }\n",
              "</style>\n",
              "<table border=\"1\" class=\"dataframe\">\n",
              "  <thead>\n",
              "    <tr style=\"text-align: right;\">\n",
              "      <th></th>\n",
              "      <th>App</th>\n",
              "      <th>Translated_Review</th>\n",
              "      <th>Sentiment</th>\n",
              "      <th>Sentiment_Polarity</th>\n",
              "      <th>Sentiment_Subjectivity</th>\n",
              "    </tr>\n",
              "  </thead>\n",
              "  <tbody>\n",
              "    <tr>\n",
              "      <th>0</th>\n",
              "      <td>10 Best Foods for You</td>\n",
              "      <td>I like eat delicious food. That's I'm cooking ...</td>\n",
              "      <td>Positive</td>\n",
              "      <td>1.00</td>\n",
              "      <td>0.533333</td>\n",
              "    </tr>\n",
              "    <tr>\n",
              "      <th>1</th>\n",
              "      <td>10 Best Foods for You</td>\n",
              "      <td>This help eating healthy exercise regular basis</td>\n",
              "      <td>Positive</td>\n",
              "      <td>0.25</td>\n",
              "      <td>0.288462</td>\n",
              "    </tr>\n",
              "    <tr>\n",
              "      <th>2</th>\n",
              "      <td>10 Best Foods for You</td>\n",
              "      <td>NaN</td>\n",
              "      <td>NaN</td>\n",
              "      <td>NaN</td>\n",
              "      <td>NaN</td>\n",
              "    </tr>\n",
              "    <tr>\n",
              "      <th>3</th>\n",
              "      <td>10 Best Foods for You</td>\n",
              "      <td>Works great especially going grocery store</td>\n",
              "      <td>Positive</td>\n",
              "      <td>0.40</td>\n",
              "      <td>0.875000</td>\n",
              "    </tr>\n",
              "    <tr>\n",
              "      <th>4</th>\n",
              "      <td>10 Best Foods for You</td>\n",
              "      <td>Best idea us</td>\n",
              "      <td>Positive</td>\n",
              "      <td>1.00</td>\n",
              "      <td>0.300000</td>\n",
              "    </tr>\n",
              "  </tbody>\n",
              "</table>\n",
              "</div>"
            ],
            "text/plain": [
              "                     App  ... Sentiment_Subjectivity\n",
              "0  10 Best Foods for You  ...               0.533333\n",
              "1  10 Best Foods for You  ...               0.288462\n",
              "2  10 Best Foods for You  ...                    NaN\n",
              "3  10 Best Foods for You  ...               0.875000\n",
              "4  10 Best Foods for You  ...               0.300000\n",
              "\n",
              "[5 rows x 5 columns]"
            ]
          },
          "metadata": {},
          "execution_count": 115
        }
      ]
    },
    {
      "cell_type": "code",
      "metadata": {
        "colab": {
          "base_uri": "https://localhost:8080/",
          "height": 270
        },
        "id": "cQCsDzZr1pyk",
        "outputId": "cd574a71-fad5-4af7-80b8-1c493b3462f4"
      },
      "source": [
        "play_store_df.tail() #tail() gives last 5 rows by default. We can mention number of row that we want to display as argument e.g:- tail(10)"
      ],
      "execution_count": 116,
      "outputs": [
        {
          "output_type": "execute_result",
          "data": {
            "text/html": [
              "<div>\n",
              "<style scoped>\n",
              "    .dataframe tbody tr th:only-of-type {\n",
              "        vertical-align: middle;\n",
              "    }\n",
              "\n",
              "    .dataframe tbody tr th {\n",
              "        vertical-align: top;\n",
              "    }\n",
              "\n",
              "    .dataframe thead th {\n",
              "        text-align: right;\n",
              "    }\n",
              "</style>\n",
              "<table border=\"1\" class=\"dataframe\">\n",
              "  <thead>\n",
              "    <tr style=\"text-align: right;\">\n",
              "      <th></th>\n",
              "      <th>App</th>\n",
              "      <th>Category</th>\n",
              "      <th>Rating</th>\n",
              "      <th>Reviews</th>\n",
              "      <th>Size</th>\n",
              "      <th>Installs</th>\n",
              "      <th>Type</th>\n",
              "      <th>Price</th>\n",
              "      <th>Content Rating</th>\n",
              "      <th>Genres</th>\n",
              "      <th>Last Updated</th>\n",
              "      <th>Current Ver</th>\n",
              "      <th>Android Ver</th>\n",
              "    </tr>\n",
              "  </thead>\n",
              "  <tbody>\n",
              "    <tr>\n",
              "      <th>10836</th>\n",
              "      <td>Sya9a Maroc - FR</td>\n",
              "      <td>FAMILY</td>\n",
              "      <td>4.5</td>\n",
              "      <td>38</td>\n",
              "      <td>53M</td>\n",
              "      <td>5,000+</td>\n",
              "      <td>Free</td>\n",
              "      <td>0</td>\n",
              "      <td>Everyone</td>\n",
              "      <td>Education</td>\n",
              "      <td>July 25, 2017</td>\n",
              "      <td>1.48</td>\n",
              "      <td>4.1 and up</td>\n",
              "    </tr>\n",
              "    <tr>\n",
              "      <th>10837</th>\n",
              "      <td>Fr. Mike Schmitz Audio Teachings</td>\n",
              "      <td>FAMILY</td>\n",
              "      <td>5.0</td>\n",
              "      <td>4</td>\n",
              "      <td>3.6M</td>\n",
              "      <td>100+</td>\n",
              "      <td>Free</td>\n",
              "      <td>0</td>\n",
              "      <td>Everyone</td>\n",
              "      <td>Education</td>\n",
              "      <td>July 6, 2018</td>\n",
              "      <td>1.0</td>\n",
              "      <td>4.1 and up</td>\n",
              "    </tr>\n",
              "    <tr>\n",
              "      <th>10838</th>\n",
              "      <td>Parkinson Exercices FR</td>\n",
              "      <td>MEDICAL</td>\n",
              "      <td>NaN</td>\n",
              "      <td>3</td>\n",
              "      <td>9.5M</td>\n",
              "      <td>1,000+</td>\n",
              "      <td>Free</td>\n",
              "      <td>0</td>\n",
              "      <td>Everyone</td>\n",
              "      <td>Medical</td>\n",
              "      <td>January 20, 2017</td>\n",
              "      <td>1.0</td>\n",
              "      <td>2.2 and up</td>\n",
              "    </tr>\n",
              "    <tr>\n",
              "      <th>10839</th>\n",
              "      <td>The SCP Foundation DB fr nn5n</td>\n",
              "      <td>BOOKS_AND_REFERENCE</td>\n",
              "      <td>4.5</td>\n",
              "      <td>114</td>\n",
              "      <td>Varies with device</td>\n",
              "      <td>1,000+</td>\n",
              "      <td>Free</td>\n",
              "      <td>0</td>\n",
              "      <td>Mature 17+</td>\n",
              "      <td>Books &amp; Reference</td>\n",
              "      <td>January 19, 2015</td>\n",
              "      <td>Varies with device</td>\n",
              "      <td>Varies with device</td>\n",
              "    </tr>\n",
              "    <tr>\n",
              "      <th>10840</th>\n",
              "      <td>iHoroscope - 2018 Daily Horoscope &amp; Astrology</td>\n",
              "      <td>LIFESTYLE</td>\n",
              "      <td>4.5</td>\n",
              "      <td>398307</td>\n",
              "      <td>19M</td>\n",
              "      <td>10,000,000+</td>\n",
              "      <td>Free</td>\n",
              "      <td>0</td>\n",
              "      <td>Everyone</td>\n",
              "      <td>Lifestyle</td>\n",
              "      <td>July 25, 2018</td>\n",
              "      <td>Varies with device</td>\n",
              "      <td>Varies with device</td>\n",
              "    </tr>\n",
              "  </tbody>\n",
              "</table>\n",
              "</div>"
            ],
            "text/plain": [
              "                                                 App  ...         Android Ver\n",
              "10836                               Sya9a Maroc - FR  ...          4.1 and up\n",
              "10837               Fr. Mike Schmitz Audio Teachings  ...          4.1 and up\n",
              "10838                         Parkinson Exercices FR  ...          2.2 and up\n",
              "10839                  The SCP Foundation DB fr nn5n  ...  Varies with device\n",
              "10840  iHoroscope - 2018 Daily Horoscope & Astrology  ...  Varies with device\n",
              "\n",
              "[5 rows x 13 columns]"
            ]
          },
          "metadata": {},
          "execution_count": 116
        }
      ]
    },
    {
      "cell_type": "code",
      "metadata": {
        "colab": {
          "base_uri": "https://localhost:8080/",
          "height": 203
        },
        "id": "uQN9f5pi1joD",
        "outputId": "f62503b5-57bc-453d-9fcb-5d30adc1a621"
      },
      "source": [
        "user_reviews_df.tail()"
      ],
      "execution_count": 117,
      "outputs": [
        {
          "output_type": "execute_result",
          "data": {
            "text/html": [
              "<div>\n",
              "<style scoped>\n",
              "    .dataframe tbody tr th:only-of-type {\n",
              "        vertical-align: middle;\n",
              "    }\n",
              "\n",
              "    .dataframe tbody tr th {\n",
              "        vertical-align: top;\n",
              "    }\n",
              "\n",
              "    .dataframe thead th {\n",
              "        text-align: right;\n",
              "    }\n",
              "</style>\n",
              "<table border=\"1\" class=\"dataframe\">\n",
              "  <thead>\n",
              "    <tr style=\"text-align: right;\">\n",
              "      <th></th>\n",
              "      <th>App</th>\n",
              "      <th>Translated_Review</th>\n",
              "      <th>Sentiment</th>\n",
              "      <th>Sentiment_Polarity</th>\n",
              "      <th>Sentiment_Subjectivity</th>\n",
              "    </tr>\n",
              "  </thead>\n",
              "  <tbody>\n",
              "    <tr>\n",
              "      <th>64290</th>\n",
              "      <td>Houzz Interior Design Ideas</td>\n",
              "      <td>NaN</td>\n",
              "      <td>NaN</td>\n",
              "      <td>NaN</td>\n",
              "      <td>NaN</td>\n",
              "    </tr>\n",
              "    <tr>\n",
              "      <th>64291</th>\n",
              "      <td>Houzz Interior Design Ideas</td>\n",
              "      <td>NaN</td>\n",
              "      <td>NaN</td>\n",
              "      <td>NaN</td>\n",
              "      <td>NaN</td>\n",
              "    </tr>\n",
              "    <tr>\n",
              "      <th>64292</th>\n",
              "      <td>Houzz Interior Design Ideas</td>\n",
              "      <td>NaN</td>\n",
              "      <td>NaN</td>\n",
              "      <td>NaN</td>\n",
              "      <td>NaN</td>\n",
              "    </tr>\n",
              "    <tr>\n",
              "      <th>64293</th>\n",
              "      <td>Houzz Interior Design Ideas</td>\n",
              "      <td>NaN</td>\n",
              "      <td>NaN</td>\n",
              "      <td>NaN</td>\n",
              "      <td>NaN</td>\n",
              "    </tr>\n",
              "    <tr>\n",
              "      <th>64294</th>\n",
              "      <td>Houzz Interior Design Ideas</td>\n",
              "      <td>NaN</td>\n",
              "      <td>NaN</td>\n",
              "      <td>NaN</td>\n",
              "      <td>NaN</td>\n",
              "    </tr>\n",
              "  </tbody>\n",
              "</table>\n",
              "</div>"
            ],
            "text/plain": [
              "                               App  ... Sentiment_Subjectivity\n",
              "64290  Houzz Interior Design Ideas  ...                    NaN\n",
              "64291  Houzz Interior Design Ideas  ...                    NaN\n",
              "64292  Houzz Interior Design Ideas  ...                    NaN\n",
              "64293  Houzz Interior Design Ideas  ...                    NaN\n",
              "64294  Houzz Interior Design Ideas  ...                    NaN\n",
              "\n",
              "[5 rows x 5 columns]"
            ]
          },
          "metadata": {},
          "execution_count": 117
        }
      ]
    },
    {
      "cell_type": "markdown",
      "metadata": {
        "id": "qUwZAdfl_6Z7"
      },
      "source": [
        "Getting columns of Play store dataframe"
      ]
    },
    {
      "cell_type": "code",
      "metadata": {
        "colab": {
          "base_uri": "https://localhost:8080/"
        },
        "id": "6De5CVdt4HCX",
        "outputId": "a28838e9-41ee-46bd-df38-104fa7c91c9c"
      },
      "source": [
        "play_store_df.columns"
      ],
      "execution_count": 118,
      "outputs": [
        {
          "output_type": "execute_result",
          "data": {
            "text/plain": [
              "Index(['App', 'Category', 'Rating', 'Reviews', 'Size', 'Installs', 'Type',\n",
              "       'Price', 'Content Rating', 'Genres', 'Last Updated', 'Current Ver',\n",
              "       'Android Ver'],\n",
              "      dtype='object')"
            ]
          },
          "metadata": {},
          "execution_count": 118
        }
      ]
    },
    {
      "cell_type": "markdown",
      "metadata": {
        "id": "YBSXzOYUASzB"
      },
      "source": [
        "Getting count of total rows and columns in Play store dataframe"
      ]
    },
    {
      "cell_type": "code",
      "metadata": {
        "colab": {
          "base_uri": "https://localhost:8080/"
        },
        "id": "LjbLOhwC4HM-",
        "outputId": "02b20521-f7af-4307-f5c7-d5d783b98ca8"
      },
      "source": [
        "print(f\"Play store has total:{play_store_df.shape[0]} rows\")\n",
        "print(f\"Play store has total:{play_store_df.shape[1]} columns\")"
      ],
      "execution_count": 119,
      "outputs": [
        {
          "output_type": "stream",
          "name": "stdout",
          "text": [
            "Play store has total:10841 rows\n",
            "Play store has total:13 columns\n"
          ]
        }
      ]
    },
    {
      "cell_type": "code",
      "metadata": {
        "colab": {
          "base_uri": "https://localhost:8080/",
          "height": 295
        },
        "id": "NInznm1q4mV1",
        "outputId": "3fe4e60f-8566-423e-e361-69ee3b2b3bed"
      },
      "source": [
        "play_store_df.describe() #describe method shows statistical summer of columns that has numeric data "
      ],
      "execution_count": 120,
      "outputs": [
        {
          "output_type": "execute_result",
          "data": {
            "text/html": [
              "<div>\n",
              "<style scoped>\n",
              "    .dataframe tbody tr th:only-of-type {\n",
              "        vertical-align: middle;\n",
              "    }\n",
              "\n",
              "    .dataframe tbody tr th {\n",
              "        vertical-align: top;\n",
              "    }\n",
              "\n",
              "    .dataframe thead th {\n",
              "        text-align: right;\n",
              "    }\n",
              "</style>\n",
              "<table border=\"1\" class=\"dataframe\">\n",
              "  <thead>\n",
              "    <tr style=\"text-align: right;\">\n",
              "      <th></th>\n",
              "      <th>Rating</th>\n",
              "    </tr>\n",
              "  </thead>\n",
              "  <tbody>\n",
              "    <tr>\n",
              "      <th>count</th>\n",
              "      <td>9367.000000</td>\n",
              "    </tr>\n",
              "    <tr>\n",
              "      <th>mean</th>\n",
              "      <td>4.193338</td>\n",
              "    </tr>\n",
              "    <tr>\n",
              "      <th>std</th>\n",
              "      <td>0.537431</td>\n",
              "    </tr>\n",
              "    <tr>\n",
              "      <th>min</th>\n",
              "      <td>1.000000</td>\n",
              "    </tr>\n",
              "    <tr>\n",
              "      <th>25%</th>\n",
              "      <td>4.000000</td>\n",
              "    </tr>\n",
              "    <tr>\n",
              "      <th>50%</th>\n",
              "      <td>4.300000</td>\n",
              "    </tr>\n",
              "    <tr>\n",
              "      <th>75%</th>\n",
              "      <td>4.500000</td>\n",
              "    </tr>\n",
              "    <tr>\n",
              "      <th>max</th>\n",
              "      <td>19.000000</td>\n",
              "    </tr>\n",
              "  </tbody>\n",
              "</table>\n",
              "</div>"
            ],
            "text/plain": [
              "            Rating\n",
              "count  9367.000000\n",
              "mean      4.193338\n",
              "std       0.537431\n",
              "min       1.000000\n",
              "25%       4.000000\n",
              "50%       4.300000\n",
              "75%       4.500000\n",
              "max      19.000000"
            ]
          },
          "metadata": {},
          "execution_count": 120
        }
      ]
    },
    {
      "cell_type": "markdown",
      "metadata": {
        "id": "8bkd9rk0Migj"
      },
      "source": [
        "# **Data Cleaning**"
      ]
    },
    {
      "cell_type": "code",
      "metadata": {
        "colab": {
          "base_uri": "https://localhost:8080/"
        },
        "id": "kI9gH0SF4sf8",
        "outputId": "2d545dfe-30a4-4a0b-a149-6b81d1b50c02"
      },
      "source": [
        "play_store_df.Category.unique() #checking all values for Category column"
      ],
      "execution_count": 121,
      "outputs": [
        {
          "output_type": "execute_result",
          "data": {
            "text/plain": [
              "array(['ART_AND_DESIGN', 'AUTO_AND_VEHICLES', 'BEAUTY',\n",
              "       'BOOKS_AND_REFERENCE', 'BUSINESS', 'COMICS', 'COMMUNICATION',\n",
              "       'DATING', 'EDUCATION', 'ENTERTAINMENT', 'EVENTS', 'FINANCE',\n",
              "       'FOOD_AND_DRINK', 'HEALTH_AND_FITNESS', 'HOUSE_AND_HOME',\n",
              "       'LIBRARIES_AND_DEMO', 'LIFESTYLE', 'GAME', 'FAMILY', 'MEDICAL',\n",
              "       'SOCIAL', 'SHOPPING', 'PHOTOGRAPHY', 'SPORTS', 'TRAVEL_AND_LOCAL',\n",
              "       'TOOLS', 'PERSONALIZATION', 'PRODUCTIVITY', 'PARENTING', 'WEATHER',\n",
              "       'VIDEO_PLAYERS', 'NEWS_AND_MAGAZINES', 'MAPS_AND_NAVIGATION',\n",
              "       '1.9'], dtype=object)"
            ]
          },
          "metadata": {},
          "execution_count": 121
        }
      ]
    },
    {
      "cell_type": "markdown",
      "metadata": {
        "id": "ixbT-QffBNFq"
      },
      "source": [
        "We can see that there is 1.9 in Category column that seems wrong. Lets check how many rows has what count of these each category "
      ]
    },
    {
      "cell_type": "code",
      "metadata": {
        "colab": {
          "base_uri": "https://localhost:8080/"
        },
        "id": "VZJsQZ0Y5zPc",
        "outputId": "dc4ab79d-d543-4383-8874-c2b02c0362ff"
      },
      "source": [
        "play_store_df['Category'].value_counts() #Checking count of each category type"
      ],
      "execution_count": 122,
      "outputs": [
        {
          "output_type": "execute_result",
          "data": {
            "text/plain": [
              "FAMILY                 1972\n",
              "GAME                   1144\n",
              "TOOLS                   843\n",
              "MEDICAL                 463\n",
              "BUSINESS                460\n",
              "PRODUCTIVITY            424\n",
              "PERSONALIZATION         392\n",
              "COMMUNICATION           387\n",
              "SPORTS                  384\n",
              "LIFESTYLE               382\n",
              "FINANCE                 366\n",
              "HEALTH_AND_FITNESS      341\n",
              "PHOTOGRAPHY             335\n",
              "SOCIAL                  295\n",
              "NEWS_AND_MAGAZINES      283\n",
              "SHOPPING                260\n",
              "TRAVEL_AND_LOCAL        258\n",
              "DATING                  234\n",
              "BOOKS_AND_REFERENCE     231\n",
              "VIDEO_PLAYERS           175\n",
              "EDUCATION               156\n",
              "ENTERTAINMENT           149\n",
              "MAPS_AND_NAVIGATION     137\n",
              "FOOD_AND_DRINK          127\n",
              "HOUSE_AND_HOME           88\n",
              "LIBRARIES_AND_DEMO       85\n",
              "AUTO_AND_VEHICLES        85\n",
              "WEATHER                  82\n",
              "ART_AND_DESIGN           65\n",
              "EVENTS                   64\n",
              "PARENTING                60\n",
              "COMICS                   60\n",
              "BEAUTY                   53\n",
              "1.9                       1\n",
              "Name: Category, dtype: int64"
            ]
          },
          "metadata": {},
          "execution_count": 122
        }
      ]
    },
    {
      "cell_type": "markdown",
      "metadata": {
        "id": "cCOT1dqzB2KD"
      },
      "source": [
        "It looks like only one row has 1.9 as category type. Lets try to locate that row and probably drop that column if it is wrong"
      ]
    },
    {
      "cell_type": "code",
      "metadata": {
        "colab": {
          "base_uri": "https://localhost:8080/",
          "height": 80
        },
        "id": "zq8bmVsX64ZM",
        "outputId": "607f48ef-8e4d-448d-ead2-6576caa83f8e"
      },
      "source": [
        "play_store_df.loc[play_store_df['Category'] == '1.9'] # Retiving row data for category that has value '1.9'. Used loc()method that is used for locating a data point with a particular data label"
      ],
      "execution_count": 123,
      "outputs": [
        {
          "output_type": "execute_result",
          "data": {
            "text/html": [
              "<div>\n",
              "<style scoped>\n",
              "    .dataframe tbody tr th:only-of-type {\n",
              "        vertical-align: middle;\n",
              "    }\n",
              "\n",
              "    .dataframe tbody tr th {\n",
              "        vertical-align: top;\n",
              "    }\n",
              "\n",
              "    .dataframe thead th {\n",
              "        text-align: right;\n",
              "    }\n",
              "</style>\n",
              "<table border=\"1\" class=\"dataframe\">\n",
              "  <thead>\n",
              "    <tr style=\"text-align: right;\">\n",
              "      <th></th>\n",
              "      <th>App</th>\n",
              "      <th>Category</th>\n",
              "      <th>Rating</th>\n",
              "      <th>Reviews</th>\n",
              "      <th>Size</th>\n",
              "      <th>Installs</th>\n",
              "      <th>Type</th>\n",
              "      <th>Price</th>\n",
              "      <th>Content Rating</th>\n",
              "      <th>Genres</th>\n",
              "      <th>Last Updated</th>\n",
              "      <th>Current Ver</th>\n",
              "      <th>Android Ver</th>\n",
              "    </tr>\n",
              "  </thead>\n",
              "  <tbody>\n",
              "    <tr>\n",
              "      <th>10472</th>\n",
              "      <td>Life Made WI-Fi Touchscreen Photo Frame</td>\n",
              "      <td>1.9</td>\n",
              "      <td>19.0</td>\n",
              "      <td>3.0M</td>\n",
              "      <td>1,000+</td>\n",
              "      <td>Free</td>\n",
              "      <td>0</td>\n",
              "      <td>Everyone</td>\n",
              "      <td>NaN</td>\n",
              "      <td>February 11, 2018</td>\n",
              "      <td>1.0.19</td>\n",
              "      <td>4.0 and up</td>\n",
              "      <td>NaN</td>\n",
              "    </tr>\n",
              "  </tbody>\n",
              "</table>\n",
              "</div>"
            ],
            "text/plain": [
              "                                           App Category  ...  Current Ver Android Ver\n",
              "10472  Life Made WI-Fi Touchscreen Photo Frame      1.9  ...   4.0 and up         NaN\n",
              "\n",
              "[1 rows x 13 columns]"
            ]
          },
          "metadata": {},
          "execution_count": 123
        }
      ]
    },
    {
      "cell_type": "code",
      "metadata": {
        "colab": {
          "base_uri": "https://localhost:8080/",
          "height": 282
        },
        "id": "SVPJTmW4F5qD",
        "outputId": "44df41cf-a478-403d-f327-a41933c2871c"
      },
      "source": [
        "play_store_df.boxplot() #boxplot help to get range of a particular numric column"
      ],
      "execution_count": 124,
      "outputs": [
        {
          "output_type": "execute_result",
          "data": {
            "text/plain": [
              "<matplotlib.axes._subplots.AxesSubplot at 0x7f741749fc50>"
            ]
          },
          "metadata": {},
          "execution_count": 124
        },
        {
          "output_type": "display_data",
          "data": {
            "image/png": "[encoded data removed]",
            "text/plain": [
              "<Figure size 432x288 with 1 Axes>"
            ]
          },
          "metadata": {
            "needs_background": "light"
          }
        }
      ]
    },
    {
      "cell_type": "markdown",
      "metadata": {
        "id": "1TtQcWxhCsG6"
      },
      "source": [
        "As we can see this row data it seems like data is not properly written in particular column 1.9 is rating for the app and 19.0 is reviews and likewise. The boxplot also show that there is outlier with 19.0 value.\n",
        "We will drop this row for our data"
      ]
    },
    {
      "cell_type": "code",
      "metadata": {
        "id": "rhjR6WRV8-WH"
      },
      "source": [
        "play_store_df.drop(play_store_df.index[10472], inplace=True) #Dropping that particular row"
      ],
      "execution_count": 125,
      "outputs": []
    },
    {
      "cell_type": "markdown",
      "metadata": {
        "id": "mei3KBvEGvIa"
      },
      "source": [
        "Now lets check number of row \n"
      ]
    },
    {
      "cell_type": "code",
      "metadata": {
        "colab": {
          "base_uri": "https://localhost:8080/"
        },
        "id": "og18zuBoG5NM",
        "outputId": "aa9a21d3-aaa5-4d66-a053-fb15cca3734c"
      },
      "source": [
        "play_store_df.shape #Perviously it was 10841 now it is 10840 that means row was successfully deleted"
      ],
      "execution_count": 126,
      "outputs": [
        {
          "output_type": "execute_result",
          "data": {
            "text/plain": [
              "(10840, 13)"
            ]
          },
          "metadata": {},
          "execution_count": 126
        }
      ]
    },
    {
      "cell_type": "markdown",
      "metadata": {
        "id": "KYKY20jDHT7n"
      },
      "source": [
        "checking the data for ratings column using histogram"
      ]
    },
    {
      "cell_type": "code",
      "metadata": {
        "colab": {
          "base_uri": "https://localhost:8080/",
          "height": 314
        },
        "id": "3jjnNiKQHB09",
        "outputId": "9137ac9d-c4bb-4d37-9e09-579abacb8efc"
      },
      "source": [
        "play_store_df.hist()"
      ],
      "execution_count": 127,
      "outputs": [
        {
          "output_type": "execute_result",
          "data": {
            "text/plain": [
              "array([[<matplotlib.axes._subplots.AxesSubplot object at 0x7f7415a71750>]],\n",
              "      dtype=object)"
            ]
          },
          "metadata": {},
          "execution_count": 127
        },
        {
          "output_type": "display_data",
          "data": {
            "image/png": "[encoded data removed]",
            "text/plain": [
              "<Figure size 432x288 with 1 Axes>"
            ]
          },
          "metadata": {
            "needs_background": "light"
          }
        }
      ]
    },
    {
      "cell_type": "markdown",
      "metadata": {
        "id": "ik8HXcm5Hgoq"
      },
      "source": [
        "As we can see that rating is also now ranging from 1 to 5 that means out outlier was removed"
      ]
    },
    {
      "cell_type": "code",
      "metadata": {
        "colab": {
          "base_uri": "https://localhost:8080/"
        },
        "id": "-4GM26nWIGrG",
        "outputId": "d129d9ad-02b4-496e-cfde-722bcebc11a8"
      },
      "source": [
        "play_store_df.info() #info() gives column and corresponding non-null counts for that column. It helps to understand how many rows have data and null "
      ],
      "execution_count": 128,
      "outputs": [
        {
          "output_type": "stream",
          "name": "stdout",
          "text": [
            "<class 'pandas.core.frame.DataFrame'>\n",
            "Int64Index: 10840 entries, 0 to 10840\n",
            "Data columns (total 13 columns):\n",
            " #   Column          Non-Null Count  Dtype  \n",
            "---  ------          --------------  -----  \n",
            " 0   App             10840 non-null  object \n",
            " 1   Category        10840 non-null  object \n",
            " 2   Rating          9366 non-null   float64\n",
            " 3   Reviews         10840 non-null  object \n",
            " 4   Size            10840 non-null  object \n",
            " 5   Installs        10840 non-null  object \n",
            " 6   Type            10839 non-null  object \n",
            " 7   Price           10840 non-null  object \n",
            " 8   Content Rating  10840 non-null  object \n",
            " 9   Genres          10840 non-null  object \n",
            " 10  Last Updated    10840 non-null  object \n",
            " 11  Current Ver     10832 non-null  object \n",
            " 12  Android Ver     10838 non-null  object \n",
            "dtypes: float64(1), object(12)\n",
            "memory usage: 1.2+ MB\n"
          ]
        }
      ]
    },
    {
      "cell_type": "code",
      "metadata": {
        "colab": {
          "base_uri": "https://localhost:8080/"
        },
        "id": "4HCnsRPWIJE_",
        "outputId": "e38fb400-cb98-4e7a-d1ad-5c5f44f87ec5"
      },
      "source": [
        "play_store_df.isnull().sum() #isnull() will show all the data and flase where there is not null and true where there is Nan or null value. using sum method will give the sum of null data in particular column"
      ],
      "execution_count": 129,
      "outputs": [
        {
          "output_type": "execute_result",
          "data": {
            "text/plain": [
              "App                  0\n",
              "Category             0\n",
              "Rating            1474\n",
              "Reviews              0\n",
              "Size                 0\n",
              "Installs             0\n",
              "Type                 1\n",
              "Price                0\n",
              "Content Rating       0\n",
              "Genres               0\n",
              "Last Updated         0\n",
              "Current Ver          8\n",
              "Android Ver          2\n",
              "dtype: int64"
            ]
          },
          "metadata": {},
          "execution_count": 129
        }
      ]
    },
    {
      "cell_type": "markdown",
      "metadata": {
        "id": "mYZNksirSzb2"
      },
      "source": [
        "# **Data Manipulation**"
      ]
    },
    {
      "cell_type": "markdown",
      "metadata": {
        "id": "qReCA_fXTBTZ"
      },
      "source": [
        "For columns that have numerical data we will fill it with median and columns that have categorical data we will fill it with mode."
      ]
    },
    {
      "cell_type": "code",
      "metadata": {
        "id": "jh1x2ziITWsV"
      },
      "source": [
        "play_store_df['Rating'].fillna(play_store_df['Rating'].median(), inplace=True)"
      ],
      "execution_count": 130,
      "outputs": []
    },
    {
      "cell_type": "code",
      "metadata": {
        "colab": {
          "base_uri": "https://localhost:8080/"
        },
        "id": "NGIuwjuDTWuZ",
        "outputId": "b3d20567-5173-488b-fa3c-db2501ca3c87"
      },
      "source": [
        "play_store_df.isnull().sum()"
      ],
      "execution_count": 131,
      "outputs": [
        {
          "output_type": "execute_result",
          "data": {
            "text/plain": [
              "App               0\n",
              "Category          0\n",
              "Rating            0\n",
              "Reviews           0\n",
              "Size              0\n",
              "Installs          0\n",
              "Type              1\n",
              "Price             0\n",
              "Content Rating    0\n",
              "Genres            0\n",
              "Last Updated      0\n",
              "Current Ver       8\n",
              "Android Ver       2\n",
              "dtype: int64"
            ]
          },
          "metadata": {},
          "execution_count": 131
        }
      ]
    },
    {
      "cell_type": "markdown",
      "metadata": {
        "id": "QJYrgbGnU4Vt"
      },
      "source": [
        "Rating columns the only numeric column with null value are handled now lets move to other columns that have categorical data and have null or nan value"
      ]
    },
    {
      "cell_type": "code",
      "metadata": {
        "colab": {
          "base_uri": "https://localhost:8080/"
        },
        "id": "bx-3aWwcT7Gr",
        "outputId": "64a77df6-0c35-4d37-d2ed-a8b2b0f026ed"
      },
      "source": [
        "print(play_store_df['Type'].mode()) #Printing mode value for categorical data column with null values\n",
        "print(play_store_df['Current Ver'].mode())\n",
        "print(play_store_df['Android Ver'].mode())"
      ],
      "execution_count": 132,
      "outputs": [
        {
          "output_type": "stream",
          "name": "stdout",
          "text": [
            "0    Free\n",
            "dtype: object\n",
            "0    Varies with device\n",
            "dtype: object\n",
            "0    4.1 and up\n",
            "dtype: object\n"
          ]
        }
      ]
    },
    {
      "cell_type": "code",
      "metadata": {
        "id": "Uh0-XiqYWcrE"
      },
      "source": [
        "play_store_df['Type'].fillna(str(play_store_df['Type'].mode().values[0]),inplace=True)\n",
        "play_store_df['Current Ver'].fillna(str(play_store_df['Current Ver'].mode().values[0]),inplace=True)\n",
        "play_store_df['Android Ver'].fillna(str(play_store_df['Android Ver'].mode().values[0]),inplace=True)"
      ],
      "execution_count": 133,
      "outputs": []
    },
    {
      "cell_type": "code",
      "metadata": {
        "colab": {
          "base_uri": "https://localhost:8080/"
        },
        "id": "w6AMSxuhWcyO",
        "outputId": "a04b7994-d86e-4d72-a6c4-85fa6d014f1c"
      },
      "source": [
        "play_store_df.isnull().sum()"
      ],
      "execution_count": 134,
      "outputs": [
        {
          "output_type": "execute_result",
          "data": {
            "text/plain": [
              "App               0\n",
              "Category          0\n",
              "Rating            0\n",
              "Reviews           0\n",
              "Size              0\n",
              "Installs          0\n",
              "Type              0\n",
              "Price             0\n",
              "Content Rating    0\n",
              "Genres            0\n",
              "Last Updated      0\n",
              "Current Ver       0\n",
              "Android Ver       0\n",
              "dtype: int64"
            ]
          },
          "metadata": {},
          "execution_count": 134
        }
      ]
    },
    {
      "cell_type": "markdown",
      "metadata": {
        "id": "8PjiFmS_XbYn"
      },
      "source": [
        "Now we dont have any null values in our data"
      ]
    },
    {
      "cell_type": "markdown",
      "metadata": {
        "id": "vwPmC9zDX0h3"
      },
      "source": [
        "We will use Price, Reviews and Installs column for visualization so lets first check type of each column"
      ]
    },
    {
      "cell_type": "code",
      "metadata": {
        "colab": {
          "base_uri": "https://localhost:8080/"
        },
        "id": "ZHJVpmgRWc5n",
        "outputId": "6321d5e3-10e7-4971-97bc-c6807e68aad8"
      },
      "source": [
        "print(type(play_store_df['Price'][0]))\n",
        "print(type(play_store_df['Reviews'][0]))\n",
        "print(type(play_store_df['Installs'][0]))"
      ],
      "execution_count": 135,
      "outputs": [
        {
          "output_type": "stream",
          "name": "stdout",
          "text": [
            "<class 'str'>\n",
            "<class 'str'>\n",
            "<class 'str'>\n"
          ]
        }
      ]
    },
    {
      "cell_type": "markdown",
      "metadata": {
        "id": "eb2Jy0OAYgpA"
      },
      "source": [
        "All are string we will need to convert it into numeric"
      ]
    },
    {
      "cell_type": "code",
      "metadata": {
        "id": "Ip3eOTEv-Wr7"
      },
      "source": [
        "play_store_df['Installs'] = play_store_df['Installs'].map(lambda x: x.rstrip('+')) # rstrip help to remove all the characters that are specified in argument"
      ],
      "execution_count": 136,
      "outputs": []
    },
    {
      "cell_type": "code",
      "metadata": {
        "colab": {
          "base_uri": "https://localhost:8080/"
        },
        "id": "n6eWHVuoBq4n",
        "outputId": "bd2d2c3b-d0e9-40e7-f674-90169c07e86a"
      },
      "source": [
        "type(play_store_df['Installs'][1]) #checking the type of Installs columns values"
      ],
      "execution_count": 137,
      "outputs": [
        {
          "output_type": "execute_result",
          "data": {
            "text/plain": [
              "str"
            ]
          },
          "metadata": {},
          "execution_count": 137
        }
      ]
    },
    {
      "cell_type": "code",
      "metadata": {
        "id": "TofBf2ItaYLv"
      },
      "source": [
        "play_store_df['Installs'] = play_store_df['Installs'].apply(lambda x: str(x).replace(',','') if ',' in str(x) else str(x)) \n",
        "play_store_df['Installs'] = play_store_df['Installs'].apply(lambda x: str(x).replace('+','') if '+' in str(x) else str(x)) \n",
        "play_store_df['Installs'] = play_store_df['Installs'].apply(lambda x: float(x))"
      ],
      "execution_count": 138,
      "outputs": []
    },
    {
      "cell_type": "code",
      "metadata": {
        "colab": {
          "base_uri": "https://localhost:8080/"
        },
        "id": "VPvxgZz3GO54",
        "outputId": "95d9dbbd-00d6-4365-df9b-489f7a4f4667"
      },
      "source": [
        "play_store_df['Price'].unique()"
      ],
      "execution_count": 139,
      "outputs": [
        {
          "output_type": "execute_result",
          "data": {
            "text/plain": [
              "array(['0', '$4.99', '$3.99', '$6.99', '$1.49', '$2.99', '$7.99', '$5.99',\n",
              "       '$3.49', '$1.99', '$9.99', '$7.49', '$0.99', '$9.00', '$5.49',\n",
              "       '$10.00', '$24.99', '$11.99', '$79.99', '$16.99', '$14.99',\n",
              "       '$1.00', '$29.99', '$12.99', '$2.49', '$10.99', '$1.50', '$19.99',\n",
              "       '$15.99', '$33.99', '$74.99', '$39.99', '$3.95', '$4.49', '$1.70',\n",
              "       '$8.99', '$2.00', '$3.88', '$25.99', '$399.99', '$17.99',\n",
              "       '$400.00', '$3.02', '$1.76', '$4.84', '$4.77', '$1.61', '$2.50',\n",
              "       '$1.59', '$6.49', '$1.29', '$5.00', '$13.99', '$299.99', '$379.99',\n",
              "       '$37.99', '$18.99', '$389.99', '$19.90', '$8.49', '$1.75',\n",
              "       '$14.00', '$4.85', '$46.99', '$109.99', '$154.99', '$3.08',\n",
              "       '$2.59', '$4.80', '$1.96', '$19.40', '$3.90', '$4.59', '$15.46',\n",
              "       '$3.04', '$4.29', '$2.60', '$3.28', '$4.60', '$28.99', '$2.95',\n",
              "       '$2.90', '$1.97', '$200.00', '$89.99', '$2.56', '$30.99', '$3.61',\n",
              "       '$394.99', '$1.26', '$1.20', '$1.04'], dtype=object)"
            ]
          },
          "metadata": {},
          "execution_count": 139
        }
      ]
    },
    {
      "cell_type": "code",
      "metadata": {
        "id": "lGpAyfQCDN6x"
      },
      "source": [
        "play_store_df['Price'] = pd.to_numeric(play_store_df['Price'].str.replace('$','')) #Removing '$' and coverting price from string to number"
      ],
      "execution_count": 140,
      "outputs": []
    },
    {
      "cell_type": "code",
      "metadata": {
        "id": "33Gi7mYdZf7f"
      },
      "source": [
        "play_store_df['Reviews'] = pd.to_numeric(play_store_df['Reviews']) "
      ],
      "execution_count": 141,
      "outputs": []
    },
    {
      "cell_type": "code",
      "metadata": {
        "colab": {
          "base_uri": "https://localhost:8080/",
          "height": 295
        },
        "id": "7Q9ju_ihZx7g",
        "outputId": "1ac8b38e-e5cb-4f85-a963-09dccfce1a06"
      },
      "source": [
        "play_store_df.describe()"
      ],
      "execution_count": 142,
      "outputs": [
        {
          "output_type": "execute_result",
          "data": {
            "text/html": [
              "<div>\n",
              "<style scoped>\n",
              "    .dataframe tbody tr th:only-of-type {\n",
              "        vertical-align: middle;\n",
              "    }\n",
              "\n",
              "    .dataframe tbody tr th {\n",
              "        vertical-align: top;\n",
              "    }\n",
              "\n",
              "    .dataframe thead th {\n",
              "        text-align: right;\n",
              "    }\n",
              "</style>\n",
              "<table border=\"1\" class=\"dataframe\">\n",
              "  <thead>\n",
              "    <tr style=\"text-align: right;\">\n",
              "      <th></th>\n",
              "      <th>Rating</th>\n",
              "      <th>Reviews</th>\n",
              "      <th>Installs</th>\n",
              "      <th>Price</th>\n",
              "    </tr>\n",
              "  </thead>\n",
              "  <tbody>\n",
              "    <tr>\n",
              "      <th>count</th>\n",
              "      <td>10840.000000</td>\n",
              "      <td>1.084000e+04</td>\n",
              "      <td>1.084000e+04</td>\n",
              "      <td>10840.000000</td>\n",
              "    </tr>\n",
              "    <tr>\n",
              "      <th>mean</th>\n",
              "      <td>4.206476</td>\n",
              "      <td>4.441529e+05</td>\n",
              "      <td>1.546434e+07</td>\n",
              "      <td>1.027368</td>\n",
              "    </tr>\n",
              "    <tr>\n",
              "      <th>std</th>\n",
              "      <td>0.480342</td>\n",
              "      <td>2.927761e+06</td>\n",
              "      <td>8.502936e+07</td>\n",
              "      <td>15.949703</td>\n",
              "    </tr>\n",
              "    <tr>\n",
              "      <th>min</th>\n",
              "      <td>1.000000</td>\n",
              "      <td>0.000000e+00</td>\n",
              "      <td>0.000000e+00</td>\n",
              "      <td>0.000000</td>\n",
              "    </tr>\n",
              "    <tr>\n",
              "      <th>25%</th>\n",
              "      <td>4.100000</td>\n",
              "      <td>3.800000e+01</td>\n",
              "      <td>1.000000e+03</td>\n",
              "      <td>0.000000</td>\n",
              "    </tr>\n",
              "    <tr>\n",
              "      <th>50%</th>\n",
              "      <td>4.300000</td>\n",
              "      <td>2.094000e+03</td>\n",
              "      <td>1.000000e+05</td>\n",
              "      <td>0.000000</td>\n",
              "    </tr>\n",
              "    <tr>\n",
              "      <th>75%</th>\n",
              "      <td>4.500000</td>\n",
              "      <td>5.477550e+04</td>\n",
              "      <td>5.000000e+06</td>\n",
              "      <td>0.000000</td>\n",
              "    </tr>\n",
              "    <tr>\n",
              "      <th>max</th>\n",
              "      <td>5.000000</td>\n",
              "      <td>7.815831e+07</td>\n",
              "      <td>1.000000e+09</td>\n",
              "      <td>400.000000</td>\n",
              "    </tr>\n",
              "  </tbody>\n",
              "</table>\n",
              "</div>"
            ],
            "text/plain": [
              "             Rating       Reviews      Installs         Price\n",
              "count  10840.000000  1.084000e+04  1.084000e+04  10840.000000\n",
              "mean       4.206476  4.441529e+05  1.546434e+07      1.027368\n",
              "std        0.480342  2.927761e+06  8.502936e+07     15.949703\n",
              "min        1.000000  0.000000e+00  0.000000e+00      0.000000\n",
              "25%        4.100000  3.800000e+01  1.000000e+03      0.000000\n",
              "50%        4.300000  2.094000e+03  1.000000e+05      0.000000\n",
              "75%        4.500000  5.477550e+04  5.000000e+06      0.000000\n",
              "max        5.000000  7.815831e+07  1.000000e+09    400.000000"
            ]
          },
          "metadata": {},
          "execution_count": 142
        }
      ]
    },
    {
      "cell_type": "markdown",
      "metadata": {
        "id": "kH259cf9cVsX"
      },
      "source": [
        "As we can see all the three column are converted in to numeric now"
      ]
    },
    {
      "cell_type": "code",
      "metadata": {
        "colab": {
          "base_uri": "https://localhost:8080/"
        },
        "id": "Xk189JmpG5Qa",
        "outputId": "147a289d-602d-47ba-8957-778ad9c845be"
      },
      "source": [
        "play_store_df.info()"
      ],
      "execution_count": 143,
      "outputs": [
        {
          "output_type": "stream",
          "name": "stdout",
          "text": [
            "<class 'pandas.core.frame.DataFrame'>\n",
            "Int64Index: 10840 entries, 0 to 10840\n",
            "Data columns (total 13 columns):\n",
            " #   Column          Non-Null Count  Dtype  \n",
            "---  ------          --------------  -----  \n",
            " 0   App             10840 non-null  object \n",
            " 1   Category        10840 non-null  object \n",
            " 2   Rating          10840 non-null  float64\n",
            " 3   Reviews         10840 non-null  int64  \n",
            " 4   Size            10840 non-null  object \n",
            " 5   Installs        10840 non-null  float64\n",
            " 6   Type            10840 non-null  object \n",
            " 7   Price           10840 non-null  float64\n",
            " 8   Content Rating  10840 non-null  object \n",
            " 9   Genres          10840 non-null  object \n",
            " 10  Last Updated    10840 non-null  object \n",
            " 11  Current Ver     10840 non-null  object \n",
            " 12  Android Ver     10840 non-null  object \n",
            "dtypes: float64(3), int64(1), object(9)\n",
            "memory usage: 1.5+ MB\n"
          ]
        }
      ]
    },
    {
      "cell_type": "code",
      "metadata": {
        "colab": {
          "base_uri": "https://localhost:8080/"
        },
        "id": "1xXB18glIj6i",
        "outputId": "399be381-1e3a-4c1b-f577-1836bc2815ca"
      },
      "source": [
        "boolean = play_store_df['App'].duplicated().any()\n",
        "boolean"
      ],
      "execution_count": 144,
      "outputs": [
        {
          "output_type": "execute_result",
          "data": {
            "text/plain": [
              "True"
            ]
          },
          "metadata": {},
          "execution_count": 144
        }
      ]
    },
    {
      "cell_type": "code",
      "metadata": {
        "colab": {
          "base_uri": "https://localhost:8080/"
        },
        "id": "5iPrJov3IuYN",
        "outputId": "ee7c3fc2-d357-43dc-eb05-12d742d8c1cf"
      },
      "source": [
        "play_store_df['App'].value_counts()"
      ],
      "execution_count": 145,
      "outputs": [
        {
          "output_type": "execute_result",
          "data": {
            "text/plain": [
              "ROBLOX                                               9\n",
              "CBS Sports App - Scores, News, Stats & Watch Live    8\n",
              "Candy Crush Saga                                     7\n",
              "ESPN                                                 7\n",
              "Duolingo: Learn Languages Free                       7\n",
              "                                                    ..\n",
              "Jabong Online Shopping App                           1\n",
              "C-E Federal Credit Union                             1\n",
              "Ringtones & Wallpapers for Me                        1\n",
              "EY Belgium Inhouse Day 2018                          1\n",
              "EP Home Energy Hub                                   1\n",
              "Name: App, Length: 9659, dtype: int64"
            ]
          },
          "metadata": {},
          "execution_count": 145
        }
      ]
    },
    {
      "cell_type": "code",
      "metadata": {
        "colab": {
          "base_uri": "https://localhost:8080/",
          "height": 265
        },
        "id": "Sufxkm7SI1Xk",
        "outputId": "8f2015ce-fe97-4549-805d-9e1f39b8c581"
      },
      "source": [
        "play_store_df[play_store_df['App']=='ESPN']"
      ],
      "execution_count": 146,
      "outputs": [
        {
          "output_type": "execute_result",
          "data": {
            "text/html": [
              "<div>\n",
              "<style scoped>\n",
              "    .dataframe tbody tr th:only-of-type {\n",
              "        vertical-align: middle;\n",
              "    }\n",
              "\n",
              "    .dataframe tbody tr th {\n",
              "        vertical-align: top;\n",
              "    }\n",
              "\n",
              "    .dataframe thead th {\n",
              "        text-align: right;\n",
              "    }\n",
              "</style>\n",
              "<table border=\"1\" class=\"dataframe\">\n",
              "  <thead>\n",
              "    <tr style=\"text-align: right;\">\n",
              "      <th></th>\n",
              "      <th>App</th>\n",
              "      <th>Category</th>\n",
              "      <th>Rating</th>\n",
              "      <th>Reviews</th>\n",
              "      <th>Size</th>\n",
              "      <th>Installs</th>\n",
              "      <th>Type</th>\n",
              "      <th>Price</th>\n",
              "      <th>Content Rating</th>\n",
              "      <th>Genres</th>\n",
              "      <th>Last Updated</th>\n",
              "      <th>Current Ver</th>\n",
              "      <th>Android Ver</th>\n",
              "    </tr>\n",
              "  </thead>\n",
              "  <tbody>\n",
              "    <tr>\n",
              "      <th>2959</th>\n",
              "      <td>ESPN</td>\n",
              "      <td>SPORTS</td>\n",
              "      <td>4.2</td>\n",
              "      <td>521138</td>\n",
              "      <td>Varies with device</td>\n",
              "      <td>10000000.0</td>\n",
              "      <td>Free</td>\n",
              "      <td>0.0</td>\n",
              "      <td>Everyone 10+</td>\n",
              "      <td>Sports</td>\n",
              "      <td>July 19, 2018</td>\n",
              "      <td>Varies with device</td>\n",
              "      <td>5.0 and up</td>\n",
              "    </tr>\n",
              "    <tr>\n",
              "      <th>3010</th>\n",
              "      <td>ESPN</td>\n",
              "      <td>SPORTS</td>\n",
              "      <td>4.2</td>\n",
              "      <td>521138</td>\n",
              "      <td>Varies with device</td>\n",
              "      <td>10000000.0</td>\n",
              "      <td>Free</td>\n",
              "      <td>0.0</td>\n",
              "      <td>Everyone 10+</td>\n",
              "      <td>Sports</td>\n",
              "      <td>July 19, 2018</td>\n",
              "      <td>Varies with device</td>\n",
              "      <td>5.0 and up</td>\n",
              "    </tr>\n",
              "    <tr>\n",
              "      <th>3018</th>\n",
              "      <td>ESPN</td>\n",
              "      <td>SPORTS</td>\n",
              "      <td>4.2</td>\n",
              "      <td>521138</td>\n",
              "      <td>Varies with device</td>\n",
              "      <td>10000000.0</td>\n",
              "      <td>Free</td>\n",
              "      <td>0.0</td>\n",
              "      <td>Everyone 10+</td>\n",
              "      <td>Sports</td>\n",
              "      <td>July 19, 2018</td>\n",
              "      <td>Varies with device</td>\n",
              "      <td>5.0 and up</td>\n",
              "    </tr>\n",
              "    <tr>\n",
              "      <th>3048</th>\n",
              "      <td>ESPN</td>\n",
              "      <td>SPORTS</td>\n",
              "      <td>4.2</td>\n",
              "      <td>521140</td>\n",
              "      <td>Varies with device</td>\n",
              "      <td>10000000.0</td>\n",
              "      <td>Free</td>\n",
              "      <td>0.0</td>\n",
              "      <td>Everyone 10+</td>\n",
              "      <td>Sports</td>\n",
              "      <td>July 19, 2018</td>\n",
              "      <td>Varies with device</td>\n",
              "      <td>5.0 and up</td>\n",
              "    </tr>\n",
              "    <tr>\n",
              "      <th>3060</th>\n",
              "      <td>ESPN</td>\n",
              "      <td>SPORTS</td>\n",
              "      <td>4.2</td>\n",
              "      <td>521140</td>\n",
              "      <td>Varies with device</td>\n",
              "      <td>10000000.0</td>\n",
              "      <td>Free</td>\n",
              "      <td>0.0</td>\n",
              "      <td>Everyone 10+</td>\n",
              "      <td>Sports</td>\n",
              "      <td>July 19, 2018</td>\n",
              "      <td>Varies with device</td>\n",
              "      <td>5.0 and up</td>\n",
              "    </tr>\n",
              "    <tr>\n",
              "      <th>3072</th>\n",
              "      <td>ESPN</td>\n",
              "      <td>SPORTS</td>\n",
              "      <td>4.2</td>\n",
              "      <td>521140</td>\n",
              "      <td>Varies with device</td>\n",
              "      <td>10000000.0</td>\n",
              "      <td>Free</td>\n",
              "      <td>0.0</td>\n",
              "      <td>Everyone 10+</td>\n",
              "      <td>Sports</td>\n",
              "      <td>July 19, 2018</td>\n",
              "      <td>Varies with device</td>\n",
              "      <td>5.0 and up</td>\n",
              "    </tr>\n",
              "    <tr>\n",
              "      <th>4069</th>\n",
              "      <td>ESPN</td>\n",
              "      <td>SPORTS</td>\n",
              "      <td>4.2</td>\n",
              "      <td>521081</td>\n",
              "      <td>Varies with device</td>\n",
              "      <td>10000000.0</td>\n",
              "      <td>Free</td>\n",
              "      <td>0.0</td>\n",
              "      <td>Everyone 10+</td>\n",
              "      <td>Sports</td>\n",
              "      <td>July 19, 2018</td>\n",
              "      <td>Varies with device</td>\n",
              "      <td>5.0 and up</td>\n",
              "    </tr>\n",
              "  </tbody>\n",
              "</table>\n",
              "</div>"
            ],
            "text/plain": [
              "       App Category  Rating  ...   Last Updated         Current Ver  Android Ver\n",
              "2959  ESPN   SPORTS     4.2  ...  July 19, 2018  Varies with device   5.0 and up\n",
              "3010  ESPN   SPORTS     4.2  ...  July 19, 2018  Varies with device   5.0 and up\n",
              "3018  ESPN   SPORTS     4.2  ...  July 19, 2018  Varies with device   5.0 and up\n",
              "3048  ESPN   SPORTS     4.2  ...  July 19, 2018  Varies with device   5.0 and up\n",
              "3060  ESPN   SPORTS     4.2  ...  July 19, 2018  Varies with device   5.0 and up\n",
              "3072  ESPN   SPORTS     4.2  ...  July 19, 2018  Varies with device   5.0 and up\n",
              "4069  ESPN   SPORTS     4.2  ...  July 19, 2018  Varies with device   5.0 and up\n",
              "\n",
              "[7 rows x 13 columns]"
            ]
          },
          "metadata": {},
          "execution_count": 146
        }
      ]
    },
    {
      "cell_type": "code",
      "metadata": {
        "colab": {
          "base_uri": "https://localhost:8080/"
        },
        "id": "K7GK_dnKc4Pp",
        "outputId": "9c880760-8280-4239-e656-68539547e196"
      },
      "source": [
        "play_store_df['App'].value_counts()"
      ],
      "execution_count": 147,
      "outputs": [
        {
          "output_type": "execute_result",
          "data": {
            "text/plain": [
              "ROBLOX                                               9\n",
              "CBS Sports App - Scores, News, Stats & Watch Live    8\n",
              "Candy Crush Saga                                     7\n",
              "ESPN                                                 7\n",
              "Duolingo: Learn Languages Free                       7\n",
              "                                                    ..\n",
              "Jabong Online Shopping App                           1\n",
              "C-E Federal Credit Union                             1\n",
              "Ringtones & Wallpapers for Me                        1\n",
              "EY Belgium Inhouse Day 2018                          1\n",
              "EP Home Energy Hub                                   1\n",
              "Name: App, Length: 9659, dtype: int64"
            ]
          },
          "metadata": {},
          "execution_count": 147
        }
      ]
    },
    {
      "cell_type": "code",
      "metadata": {
        "colab": {
          "base_uri": "https://localhost:8080/"
        },
        "id": "UmmOvUtDdcyh",
        "outputId": "9d00df71-bad1-4d50-dd02-b855eedf7e8b"
      },
      "source": [
        "play_store_df.shape"
      ],
      "execution_count": 148,
      "outputs": [
        {
          "output_type": "execute_result",
          "data": {
            "text/plain": [
              "(10840, 13)"
            ]
          },
          "metadata": {},
          "execution_count": 148
        }
      ]
    },
    {
      "cell_type": "code",
      "metadata": {
        "id": "MTZ5GjMbI6U8"
      },
      "source": [
        "#play_store_df.drop_duplicates(inplace=True)\n",
        "\n",
        "play_store_df.drop_duplicates(subset ='App',keep = False, inplace = True)\n"
      ],
      "execution_count": 149,
      "outputs": []
    },
    {
      "cell_type": "code",
      "metadata": {
        "colab": {
          "base_uri": "https://localhost:8080/"
        },
        "id": "RE_TQypFjL8p",
        "outputId": "82ab7ff6-3f1f-4cad-8905-8cfa8fbc1378"
      },
      "source": [
        "play_store_df['App'].value_counts()"
      ],
      "execution_count": 150,
      "outputs": [
        {
          "output_type": "execute_result",
          "data": {
            "text/plain": [
              "BF 3d Images               1\n",
              "my face                    1\n",
              "Posta App                  1\n",
              "BA4You                     1\n",
              "Mobile CS:GO               1\n",
              "                          ..\n",
              "Block! Hexa Puzzle™        1\n",
              "Cy-Reader                  1\n",
              "Taco Bell                  1\n",
              "BK Formula Calculator 2    1\n",
              "LG Health                  1\n",
              "Name: App, Length: 8861, dtype: int64"
            ]
          },
          "metadata": {},
          "execution_count": 150
        }
      ]
    },
    {
      "cell_type": "code",
      "metadata": {
        "id": "m97SasJejxAm",
        "colab": {
          "base_uri": "https://localhost:8080/"
        },
        "outputId": "47fea35a-f7fd-432f-9be3-d49b4f4f01b5"
      },
      "source": [
        "boolean = play_store_df['App'].duplicated().any()\n",
        "boolean"
      ],
      "execution_count": 151,
      "outputs": [
        {
          "output_type": "execute_result",
          "data": {
            "text/plain": [
              "False"
            ]
          },
          "metadata": {},
          "execution_count": 151
        }
      ]
    },
    {
      "cell_type": "code",
      "metadata": {
        "colab": {
          "base_uri": "https://localhost:8080/"
        },
        "id": "SYiy3UPjJnD1",
        "outputId": "ccb3e040-f122-43dc-f6da-c79cc78bd846"
      },
      "source": [
        "play_store_df['Reviews'].unique()"
      ],
      "execution_count": 152,
      "outputs": [
        {
          "output_type": "execute_result",
          "data": {
            "text/plain": [
              "array([   159,  87510, 215644, ...,    603,   1195, 398307])"
            ]
          },
          "metadata": {},
          "execution_count": 152
        }
      ]
    },
    {
      "cell_type": "code",
      "metadata": {
        "id": "C_hxLo8oKhK9",
        "colab": {
          "base_uri": "https://localhost:8080/"
        },
        "outputId": "aa8b2a16-26c8-4f1c-e7f2-affcaea3697a"
      },
      "source": [
        "play_store_df.shape"
      ],
      "execution_count": 153,
      "outputs": [
        {
          "output_type": "execute_result",
          "data": {
            "text/plain": [
              "(8861, 13)"
            ]
          },
          "metadata": {},
          "execution_count": 153
        }
      ]
    },
    {
      "cell_type": "markdown",
      "metadata": {
        "id": "MfN3FHtPyTPt"
      },
      "source": [
        "# **Data Visualization**\n"
      ]
    },
    {
      "cell_type": "markdown",
      "metadata": {
        "id": "sg-6wKdp0y1J"
      },
      "source": [
        "**What is EDA ?** \n",
        "\n",
        "is an approach for data analysis that emeploys a variety of technics (mostly graphical) *to*\n",
        "\n",
        "*   maximize insight into a dataset\n",
        "*   uncover underlying structure\n",
        "*   extract important variables\n",
        "*   answer questions\n",
        "\n",
        "**EDA Checklist**\n",
        "\n",
        "\n",
        "\n",
        "1.   What question(s) are you trying to solve ?\n",
        "2.   What kind of data do you have and how do you treat different types?\n",
        "3.   What do you get after visualize your data?\n",
        "4.   What is your observation\n",
        "\n",
        "\n",
        "\n"
      ]
    },
    {
      "cell_type": "markdown",
      "metadata": {
        "id": "E4TkCniU62GZ"
      },
      "source": [
        "What are the top 20 apps present in the google play store as per their Genres?"
      ]
    },
    {
      "cell_type": "code",
      "metadata": {
        "id": "6XRr-Ms622w_"
      },
      "source": [
        "#Setting up the parameters for the plots\n",
        "sns.set_style('darkgrid')\n",
        "plt.rcParams['font.size'] = 14\n",
        "plt.rcParams['figure.figsize'] = (9, 5)\n",
        "plt.rcParams['figure.facecolor'] = '#00000000'"
      ],
      "execution_count": 154,
      "outputs": []
    },
    {
      "cell_type": "code",
      "metadata": {
        "id": "00_f1llB3-HX"
      },
      "source": [
        "top_genres = play_store_df.Genres.value_counts().reset_index().rename(columns={'Genres':'Count','index':'Genres'})"
      ],
      "execution_count": 155,
      "outputs": []
    },
    {
      "cell_type": "code",
      "metadata": {
        "colab": {
          "base_uri": "https://localhost:8080/",
          "height": 417
        },
        "id": "TBt6nKlS3-Jn",
        "outputId": "214e72f6-0c83-4138-d259-d8213be315fe"
      },
      "source": [
        "top_genres"
      ],
      "execution_count": 156,
      "outputs": [
        {
          "output_type": "execute_result",
          "data": {
            "text/html": [
              "<div>\n",
              "<style scoped>\n",
              "    .dataframe tbody tr th:only-of-type {\n",
              "        vertical-align: middle;\n",
              "    }\n",
              "\n",
              "    .dataframe tbody tr th {\n",
              "        vertical-align: top;\n",
              "    }\n",
              "\n",
              "    .dataframe thead th {\n",
              "        text-align: right;\n",
              "    }\n",
              "</style>\n",
              "<table border=\"1\" class=\"dataframe\">\n",
              "  <thead>\n",
              "    <tr style=\"text-align: right;\">\n",
              "      <th></th>\n",
              "      <th>Genres</th>\n",
              "      <th>Count</th>\n",
              "    </tr>\n",
              "  </thead>\n",
              "  <tbody>\n",
              "    <tr>\n",
              "      <th>0</th>\n",
              "      <td>Tools</td>\n",
              "      <td>813</td>\n",
              "    </tr>\n",
              "    <tr>\n",
              "      <th>1</th>\n",
              "      <td>Entertainment</td>\n",
              "      <td>523</td>\n",
              "    </tr>\n",
              "    <tr>\n",
              "      <th>2</th>\n",
              "      <td>Education</td>\n",
              "      <td>484</td>\n",
              "    </tr>\n",
              "    <tr>\n",
              "      <th>3</th>\n",
              "      <td>Business</td>\n",
              "      <td>386</td>\n",
              "    </tr>\n",
              "    <tr>\n",
              "      <th>4</th>\n",
              "      <td>Personalization</td>\n",
              "      <td>363</td>\n",
              "    </tr>\n",
              "    <tr>\n",
              "      <th>...</th>\n",
              "      <td>...</td>\n",
              "      <td>...</td>\n",
              "    </tr>\n",
              "    <tr>\n",
              "      <th>108</th>\n",
              "      <td>Health &amp; Fitness;Action &amp; Adventure</td>\n",
              "      <td>1</td>\n",
              "    </tr>\n",
              "    <tr>\n",
              "      <th>109</th>\n",
              "      <td>Role Playing;Education</td>\n",
              "      <td>1</td>\n",
              "    </tr>\n",
              "    <tr>\n",
              "      <th>110</th>\n",
              "      <td>Adventure;Brain Games</td>\n",
              "      <td>1</td>\n",
              "    </tr>\n",
              "    <tr>\n",
              "      <th>111</th>\n",
              "      <td>Tools;Education</td>\n",
              "      <td>1</td>\n",
              "    </tr>\n",
              "    <tr>\n",
              "      <th>112</th>\n",
              "      <td>Music &amp; Audio;Music &amp; Video</td>\n",
              "      <td>1</td>\n",
              "    </tr>\n",
              "  </tbody>\n",
              "</table>\n",
              "<p>113 rows × 2 columns</p>\n",
              "</div>"
            ],
            "text/plain": [
              "                                  Genres  Count\n",
              "0                                  Tools    813\n",
              "1                          Entertainment    523\n",
              "2                              Education    484\n",
              "3                               Business    386\n",
              "4                        Personalization    363\n",
              "..                                   ...    ...\n",
              "108  Health & Fitness;Action & Adventure      1\n",
              "109               Role Playing;Education      1\n",
              "110                Adventure;Brain Games      1\n",
              "111                      Tools;Education      1\n",
              "112          Music & Audio;Music & Video      1\n",
              "\n",
              "[113 rows x 2 columns]"
            ]
          },
          "metadata": {},
          "execution_count": 156
        }
      ]
    },
    {
      "cell_type": "code",
      "metadata": {
        "id": "h_hXSrIG3-UE"
      },
      "source": [
        "genres_installs = play_store_df.groupby(['Genres'])[['Installs']].sum()"
      ],
      "execution_count": 157,
      "outputs": []
    },
    {
      "cell_type": "code",
      "metadata": {
        "colab": {
          "base_uri": "https://localhost:8080/",
          "height": 447
        },
        "id": "ILXjQX1h8b8p",
        "outputId": "7c7f3bb4-8d71-4e37-e545-13b0594f0b27"
      },
      "source": [
        "genres_installs"
      ],
      "execution_count": 158,
      "outputs": [
        {
          "output_type": "execute_result",
          "data": {
            "text/html": [
              "<div>\n",
              "<style scoped>\n",
              "    .dataframe tbody tr th:only-of-type {\n",
              "        vertical-align: middle;\n",
              "    }\n",
              "\n",
              "    .dataframe tbody tr th {\n",
              "        vertical-align: top;\n",
              "    }\n",
              "\n",
              "    .dataframe thead th {\n",
              "        text-align: right;\n",
              "    }\n",
              "</style>\n",
              "<table border=\"1\" class=\"dataframe\">\n",
              "  <thead>\n",
              "    <tr style=\"text-align: right;\">\n",
              "      <th></th>\n",
              "      <th>Installs</th>\n",
              "    </tr>\n",
              "    <tr>\n",
              "      <th>Genres</th>\n",
              "      <th></th>\n",
              "    </tr>\n",
              "  </thead>\n",
              "  <tbody>\n",
              "    <tr>\n",
              "      <th>Action</th>\n",
              "      <td>1.686039e+09</td>\n",
              "    </tr>\n",
              "    <tr>\n",
              "      <th>Action;Action &amp; Adventure</th>\n",
              "      <td>3.802050e+07</td>\n",
              "    </tr>\n",
              "    <tr>\n",
              "      <th>Adventure</th>\n",
              "      <td>1.866953e+08</td>\n",
              "    </tr>\n",
              "    <tr>\n",
              "      <th>Adventure;Action &amp; Adventure</th>\n",
              "      <td>6.150000e+06</td>\n",
              "    </tr>\n",
              "    <tr>\n",
              "      <th>Adventure;Brain Games</th>\n",
              "      <td>1.000000e+05</td>\n",
              "    </tr>\n",
              "    <tr>\n",
              "      <th>...</th>\n",
              "      <td>...</td>\n",
              "    </tr>\n",
              "    <tr>\n",
              "      <th>Trivia;Education</th>\n",
              "      <td>1.000000e+02</td>\n",
              "    </tr>\n",
              "    <tr>\n",
              "      <th>Video Players &amp; Editors</th>\n",
              "      <td>2.126903e+09</td>\n",
              "    </tr>\n",
              "    <tr>\n",
              "      <th>Video Players &amp; Editors;Music &amp; Video</th>\n",
              "      <td>5.000000e+06</td>\n",
              "    </tr>\n",
              "    <tr>\n",
              "      <th>Weather</th>\n",
              "      <td>2.961005e+08</td>\n",
              "    </tr>\n",
              "    <tr>\n",
              "      <th>Word</th>\n",
              "      <td>1.491726e+08</td>\n",
              "    </tr>\n",
              "  </tbody>\n",
              "</table>\n",
              "<p>113 rows × 1 columns</p>\n",
              "</div>"
            ],
            "text/plain": [
              "                                           Installs\n",
              "Genres                                             \n",
              "Action                                 1.686039e+09\n",
              "Action;Action & Adventure              3.802050e+07\n",
              "Adventure                              1.866953e+08\n",
              "Adventure;Action & Adventure           6.150000e+06\n",
              "Adventure;Brain Games                  1.000000e+05\n",
              "...                                             ...\n",
              "Trivia;Education                       1.000000e+02\n",
              "Video Players & Editors                2.126903e+09\n",
              "Video Players & Editors;Music & Video  5.000000e+06\n",
              "Weather                                2.961005e+08\n",
              "Word                                   1.491726e+08\n",
              "\n",
              "[113 rows x 1 columns]"
            ]
          },
          "metadata": {},
          "execution_count": 158
        }
      ]
    },
    {
      "cell_type": "code",
      "metadata": {
        "id": "_LDXrd9f3-Wf"
      },
      "source": [
        "top_genres_installs = pd.merge(top_genres,genres_installs, on='Genres')\n",
        "top20_genres_installs = top_genres_installs.head(20)"
      ],
      "execution_count": 159,
      "outputs": []
    },
    {
      "cell_type": "code",
      "metadata": {
        "colab": {
          "base_uri": "https://localhost:8080/",
          "height": 665
        },
        "id": "nNk2_u0t8fXP",
        "outputId": "47e138b9-3cb7-402b-e648-3b307118d007"
      },
      "source": [
        "top20_genres_installs"
      ],
      "execution_count": 160,
      "outputs": [
        {
          "output_type": "execute_result",
          "data": {
            "text/html": [
              "<div>\n",
              "<style scoped>\n",
              "    .dataframe tbody tr th:only-of-type {\n",
              "        vertical-align: middle;\n",
              "    }\n",
              "\n",
              "    .dataframe tbody tr th {\n",
              "        vertical-align: top;\n",
              "    }\n",
              "\n",
              "    .dataframe thead th {\n",
              "        text-align: right;\n",
              "    }\n",
              "</style>\n",
              "<table border=\"1\" class=\"dataframe\">\n",
              "  <thead>\n",
              "    <tr style=\"text-align: right;\">\n",
              "      <th></th>\n",
              "      <th>Genres</th>\n",
              "      <th>Count</th>\n",
              "      <th>Installs</th>\n",
              "    </tr>\n",
              "  </thead>\n",
              "  <tbody>\n",
              "    <tr>\n",
              "      <th>0</th>\n",
              "      <td>Tools</td>\n",
              "      <td>813</td>\n",
              "      <td>5.141772e+09</td>\n",
              "    </tr>\n",
              "    <tr>\n",
              "      <th>1</th>\n",
              "      <td>Entertainment</td>\n",
              "      <td>523</td>\n",
              "      <td>1.486715e+09</td>\n",
              "    </tr>\n",
              "    <tr>\n",
              "      <th>2</th>\n",
              "      <td>Education</td>\n",
              "      <td>484</td>\n",
              "      <td>1.364101e+08</td>\n",
              "    </tr>\n",
              "    <tr>\n",
              "      <th>3</th>\n",
              "      <td>Business</td>\n",
              "      <td>386</td>\n",
              "      <td>4.194149e+08</td>\n",
              "    </tr>\n",
              "    <tr>\n",
              "      <th>4</th>\n",
              "      <td>Personalization</td>\n",
              "      <td>363</td>\n",
              "      <td>9.494948e+08</td>\n",
              "    </tr>\n",
              "    <tr>\n",
              "      <th>5</th>\n",
              "      <td>Lifestyle</td>\n",
              "      <td>356</td>\n",
              "      <td>4.601035e+08</td>\n",
              "    </tr>\n",
              "    <tr>\n",
              "      <th>6</th>\n",
              "      <td>Productivity</td>\n",
              "      <td>341</td>\n",
              "      <td>1.745091e+09</td>\n",
              "    </tr>\n",
              "    <tr>\n",
              "      <th>7</th>\n",
              "      <td>Medical</td>\n",
              "      <td>334</td>\n",
              "      <td>2.529492e+07</td>\n",
              "    </tr>\n",
              "    <tr>\n",
              "      <th>8</th>\n",
              "      <td>Finance</td>\n",
              "      <td>328</td>\n",
              "      <td>2.490487e+08</td>\n",
              "    </tr>\n",
              "    <tr>\n",
              "      <th>9</th>\n",
              "      <td>Sports</td>\n",
              "      <td>301</td>\n",
              "      <td>8.987745e+08</td>\n",
              "    </tr>\n",
              "    <tr>\n",
              "      <th>10</th>\n",
              "      <td>Communication</td>\n",
              "      <td>272</td>\n",
              "      <td>9.112763e+08</td>\n",
              "    </tr>\n",
              "    <tr>\n",
              "      <th>11</th>\n",
              "      <td>Action</td>\n",
              "      <td>270</td>\n",
              "      <td>1.686039e+09</td>\n",
              "    </tr>\n",
              "    <tr>\n",
              "      <th>12</th>\n",
              "      <td>Health &amp; Fitness</td>\n",
              "      <td>246</td>\n",
              "      <td>9.109725e+08</td>\n",
              "    </tr>\n",
              "    <tr>\n",
              "      <th>13</th>\n",
              "      <td>Photography</td>\n",
              "      <td>244</td>\n",
              "      <td>2.160048e+09</td>\n",
              "    </tr>\n",
              "    <tr>\n",
              "      <th>14</th>\n",
              "      <td>News &amp; Magazines</td>\n",
              "      <td>234</td>\n",
              "      <td>2.871178e+08</td>\n",
              "    </tr>\n",
              "    <tr>\n",
              "      <th>15</th>\n",
              "      <td>Books &amp; Reference</td>\n",
              "      <td>213</td>\n",
              "      <td>1.410470e+09</td>\n",
              "    </tr>\n",
              "    <tr>\n",
              "      <th>16</th>\n",
              "      <td>Social</td>\n",
              "      <td>200</td>\n",
              "      <td>5.408679e+08</td>\n",
              "    </tr>\n",
              "    <tr>\n",
              "      <th>17</th>\n",
              "      <td>Travel &amp; Local</td>\n",
              "      <td>194</td>\n",
              "      <td>4.457871e+08</td>\n",
              "    </tr>\n",
              "    <tr>\n",
              "      <th>18</th>\n",
              "      <td>Simulation</td>\n",
              "      <td>187</td>\n",
              "      <td>4.945978e+08</td>\n",
              "    </tr>\n",
              "    <tr>\n",
              "      <th>19</th>\n",
              "      <td>Arcade</td>\n",
              "      <td>167</td>\n",
              "      <td>1.849129e+09</td>\n",
              "    </tr>\n",
              "  </tbody>\n",
              "</table>\n",
              "</div>"
            ],
            "text/plain": [
              "               Genres  Count      Installs\n",
              "0               Tools    813  5.141772e+09\n",
              "1       Entertainment    523  1.486715e+09\n",
              "2           Education    484  1.364101e+08\n",
              "3            Business    386  4.194149e+08\n",
              "4     Personalization    363  9.494948e+08\n",
              "5           Lifestyle    356  4.601035e+08\n",
              "6        Productivity    341  1.745091e+09\n",
              "7             Medical    334  2.529492e+07\n",
              "8             Finance    328  2.490487e+08\n",
              "9              Sports    301  8.987745e+08\n",
              "10      Communication    272  9.112763e+08\n",
              "11             Action    270  1.686039e+09\n",
              "12   Health & Fitness    246  9.109725e+08\n",
              "13        Photography    244  2.160048e+09\n",
              "14   News & Magazines    234  2.871178e+08\n",
              "15  Books & Reference    213  1.410470e+09\n",
              "16             Social    200  5.408679e+08\n",
              "17     Travel & Local    194  4.457871e+08\n",
              "18         Simulation    187  4.945978e+08\n",
              "19             Arcade    167  1.849129e+09"
            ]
          },
          "metadata": {},
          "execution_count": 160
        }
      ]
    },
    {
      "cell_type": "code",
      "metadata": {
        "colab": {
          "base_uri": "https://localhost:8080/",
          "height": 566
        },
        "id": "JecZzvWI8fhu",
        "outputId": "26b083e6-bd59-424d-d773-4f2a0d4708f3"
      },
      "source": [
        "#ploting top 20 genres\n",
        "plt.figure(figsize=(14,7))\n",
        "plt.xticks(rotation=90)\n",
        "plt.xlabel(\"Genres\")\n",
        "plt.ylabel(\"Number of application\")\n",
        "plt.title(\"Top 20 Genres\")\n",
        "sns.barplot(top20_genres_installs.Genres, top20_genres_installs.Count)\n",
        "plt.show()"
      ],
      "execution_count": 184,
      "outputs": [
        {
          "output_type": "display_data",
          "data": {
            "image/png": "[encoded data removed]",
            "text/plain": [
              "<Figure size 1008x504 with 1 Axes>"
            ]
          },
          "metadata": {
            "needs_background": "light"
          }
        }
      ]
    },
    {
      "cell_type": "markdown",
      "metadata": {
        "id": "dLteVMXK-Y7J"
      },
      "source": [
        "Which are the Genres that are getting installed the most in top 20 Genres?\n"
      ]
    },
    {
      "cell_type": "code",
      "metadata": {
        "colab": {
          "base_uri": "https://localhost:8080/",
          "height": 589
        },
        "id": "ZYuw7I0IyFjh",
        "outputId": "a5d7548a-4773-435c-8993-5b9131972a80"
      },
      "source": [
        "plt.figure(figsize=(14,7))\n",
        "plt.xticks(rotation=90)\n",
        "plt.xlabel(\"Genres\")\n",
        "plt.ylabel(\"Installs\")\n",
        "plt.title(\"Installs according to Genres\")\n",
        "sns.barplot(top20_genres_installs.Genres, top20_genres_installs.Installs)\n",
        "plt.show()"
      ],
      "execution_count": 162,
      "outputs": [
        {
          "output_type": "display_data",
          "data": {
            "image/png": "[encoded data removed]",
            "text/plain": [
              "<Figure size 1008x504 with 1 Axes>"
            ]
          },
          "metadata": {
            "needs_background": "light"
          }
        }
      ]
    },
    {
      "cell_type": "markdown",
      "metadata": {
        "id": "FOiA927uWVEI"
      },
      "source": [
        "Above 2 barplot show top 20 genres. Top 3 genres according to number of apps are Tools, Entertainment,Education but Top 3 genres according to number of apps installed  are Tools, Photographyand Arcade."
      ]
    },
    {
      "cell_type": "markdown",
      "metadata": {
        "id": "84jbCSvjWv7q"
      },
      "source": [
        "What are top 20 Category?"
      ]
    },
    {
      "cell_type": "code",
      "metadata": {
        "id": "O8ryc_PiyFmD"
      },
      "source": [
        "top_category = play_store_df.Category.value_counts().reset_index().rename(columns={'Category':'Count','index':'Category'})"
      ],
      "execution_count": 163,
      "outputs": []
    },
    {
      "cell_type": "code",
      "metadata": {
        "id": "tltLBYzGyFpQ"
      },
      "source": [
        "category_installs = play_store_df.groupby(['Category'])[['Installs']].sum()"
      ],
      "execution_count": 164,
      "outputs": []
    },
    {
      "cell_type": "code",
      "metadata": {
        "id": "dPu4YQMdyFr-"
      },
      "source": [
        "top_category_installs = pd.merge(top_category, category_installs, on='Category')\n",
        "top_20_category_installs = top_category_installs"
      ],
      "execution_count": 165,
      "outputs": []
    },
    {
      "cell_type": "code",
      "metadata": {
        "colab": {
          "base_uri": "https://localhost:8080/",
          "height": 634
        },
        "id": "1xNju9KlyFu_",
        "outputId": "848ad68c-28db-4477-b738-8f9763d30ea0"
      },
      "source": [
        "plt.figure(figsize=(14,7))\n",
        "plt.xticks(rotation=90)\n",
        "plt.xlabel(\"Category\")\n",
        "plt.ylabel(\"Number of application\")\n",
        "plt.title(\"Count of applications for each Category\")\n",
        "sns.barplot(top_20_category_installs.Category, top_20_category_installs.Count)\n",
        "plt.show()"
      ],
      "execution_count": 166,
      "outputs": [
        {
          "output_type": "display_data",
          "data": {
            "image/png": "[encoded data removed]",
            "text/plain": [
              "<Figure size 1008x504 with 1 Axes>"
            ]
          },
          "metadata": {
            "needs_background": "light"
          }
        }
      ]
    },
    {
      "cell_type": "markdown",
      "metadata": {
        "id": "dr0xvJ2BW83s"
      },
      "source": [
        "Top 20 application installed based on category"
      ]
    },
    {
      "cell_type": "code",
      "metadata": {
        "colab": {
          "base_uri": "https://localhost:8080/",
          "height": 634
        },
        "id": "FdRMSfQIyFxl",
        "outputId": "37303ef9-6782-424f-d62e-f647f8573fe3"
      },
      "source": [
        "plt.figure(figsize=(14,7))\n",
        "plt.xticks(rotation=90)\n",
        "plt.xlabel(\"Category\")\n",
        "plt.ylabel(\"Installs\")\n",
        "plt.title(\"Number of installed applications for each Category\")\n",
        "sns.barplot(top_20_category_installs.Category, top_20_category_installs.Installs)\n",
        "plt.show()"
      ],
      "execution_count": 167,
      "outputs": [
        {
          "output_type": "display_data",
          "data": {
            "image/png": "[encoded data removed]",
            "text/plain": [
              "<Figure size 1008x504 with 1 Axes>"
            ]
          },
          "metadata": {
            "needs_background": "light"
          }
        }
      ]
    },
    {
      "cell_type": "markdown",
      "metadata": {
        "id": "RAvxAz-8_BJ2"
      },
      "source": [
        "As we can see from the above two plots: maximum number of apps present in google play store is under Family category but as per the installation and requirement in the market plot, scenario is not the same. Maximum installed apps is under Games  category"
      ]
    },
    {
      "cell_type": "markdown",
      "metadata": {
        "id": "tXxpcUHCdO12"
      },
      "source": [
        "## What is the average Rating of app on play store?\n"
      ]
    },
    {
      "cell_type": "code",
      "metadata": {
        "colab": {
          "base_uri": "https://localhost:8080/",
          "height": 341
        },
        "id": "QpJbEiGodb2-",
        "outputId": "f537dae0-2fcc-4aeb-9369-5062641a4a7c"
      },
      "source": [
        "play_store_df['Rating'].hist()"
      ],
      "execution_count": 168,
      "outputs": [
        {
          "output_type": "execute_result",
          "data": {
            "text/plain": [
              "<matplotlib.axes._subplots.AxesSubplot at 0x7f74188efb90>"
            ]
          },
          "metadata": {},
          "execution_count": 168
        },
        {
          "output_type": "display_data",
          "data": {
            "image/png": "[encoded data removed]",
            "text/plain": [
              "<Figure size 648x360 with 1 Axes>"
            ]
          },
          "metadata": {
            "needs_background": "light"
          }
        }
      ]
    },
    {
      "cell_type": "code",
      "metadata": {
        "colab": {
          "base_uri": "https://localhost:8080/"
        },
        "id": "wqzJryy4dkM1",
        "outputId": "872b5ad7-a665-43d4-dcf4-016d9701f22d"
      },
      "source": [
        "print(\"Average mean is\", np.mean(play_store_df['Rating']))"
      ],
      "execution_count": 169,
      "outputs": [
        {
          "output_type": "stream",
          "name": "stdout",
          "text": [
            "Average mean is 4.182541473874284\n"
          ]
        }
      ]
    },
    {
      "cell_type": "markdown",
      "metadata": {
        "id": "fal5ECGDd2mI"
      },
      "source": [
        "Average Rating is **4.18**"
      ]
    },
    {
      "cell_type": "markdown",
      "metadata": {
        "id": "_M3MlrxpoC3_"
      },
      "source": [
        "Size of the applications present in the datset are in MB and KB. Therefore for ease in data processing, converting entire size column to MB."
      ]
    },
    {
      "cell_type": "code",
      "metadata": {
        "id": "1rJPo5T7oHW-"
      },
      "source": [
        "# Converting KB to MB removing m,k, , from data\n",
        "play_store_df['Size'] = play_store_df['Size'].apply(lambda x: str(x).replace('Varies with device', 'NaN') if 'Varies with device' in str(x) else x)\n",
        "play_store_df['Size'] = play_store_df['Size'].apply(lambda x: str(x).replace('M', '') if 'M' in str(x) else x)\n",
        "play_store_df['Size'] = play_store_df['Size'].apply(lambda x: str(x).replace(',', '') if ',' in str(x) else x)\n",
        "play_store_df['Size'] = play_store_df['Size'].apply(lambda x: float(str(x).replace('k', '')) / 1000 if 'k' in str(x) else x)\n",
        "play_store_df['Size'] = play_store_df['Size'].apply(lambda x: float(x))"
      ],
      "execution_count": 170,
      "outputs": []
    },
    {
      "cell_type": "markdown",
      "metadata": {
        "id": "hj5BL29eonb3"
      },
      "source": [
        "How does size impact on the number of installs of any application?"
      ]
    },
    {
      "cell_type": "code",
      "metadata": {
        "colab": {
          "base_uri": "https://localhost:8080/",
          "height": 452
        },
        "id": "l9-D2c8uoHf3",
        "outputId": "2929f32c-f7a4-4f2d-acf7-3f36e1a511da"
      },
      "source": [
        "play_store_df['log_installs']= np.log2(play_store_df['Installs'])\n",
        "plt.figure(figsize=(14,7))\n",
        "sns.scatterplot(play_store_df['Size'], play_store_df['log_installs'], hue=play_store_df['Type'])\n",
        "plt.show()"
      ],
      "execution_count": 171,
      "outputs": [
        {
          "output_type": "display_data",
          "data": {
            "image/png": "[encoded data removed]",
            "text/plain": [
              "<Figure size 1008x504 with 1 Axes>"
            ]
          },
          "metadata": {
            "needs_background": "light"
          }
        }
      ]
    },
    {
      "cell_type": "markdown",
      "metadata": {
        "id": "f-cwseWNpKz4"
      },
      "source": [
        "It is clear from the above mentioned plot that size may impact the number of installations. Bulky applications are less installed by the user and this applies for both type of apps paid and free."
      ]
    },
    {
      "cell_type": "markdown",
      "metadata": {
        "id": "D5C0c4Ekpb2L"
      },
      "source": [
        "Histogram of size of apps"
      ]
    },
    {
      "cell_type": "code",
      "metadata": {
        "id": "9Nxh5PG8pbTu"
      },
      "source": [
        "# to remove null values from size column\n",
        "play_store_df.loc[play_store_df['Size'].isnull(),'Size']=0"
      ],
      "execution_count": 172,
      "outputs": []
    },
    {
      "cell_type": "code",
      "metadata": {
        "colab": {
          "base_uri": "https://localhost:8080/",
          "height": 362
        },
        "id": "awyJezgfpm9e",
        "outputId": "e958a941-a3ee-4356-fcb6-1fb5f2f5d5f9"
      },
      "source": [
        "plt.xlabel(\"Size\")\n",
        "plt.title(\"Distribution of Size\")\n",
        "plt.hist(play_store_df['Size']);\n",
        "plt.show()"
      ],
      "execution_count": 173,
      "outputs": [
        {
          "output_type": "display_data",
          "data": {
            "image/png": "[encoded data removed]",
            "text/plain": [
              "<Figure size 648x360 with 1 Axes>"
            ]
          },
          "metadata": {
            "needs_background": "light"
          }
        }
      ]
    },
    {
      "cell_type": "markdown",
      "metadata": {
        "id": "tWJkJH-tpz3O"
      },
      "source": [
        "From the above histogram, it can be concluded that maximum number of applications present in the dataset are of small size. 0 to 10 mb "
      ]
    },
    {
      "cell_type": "markdown",
      "metadata": {
        "id": "RwuoYiXFfnXe"
      },
      "source": [
        "What are the count of applications in each category differentiated by their type?"
      ]
    },
    {
      "cell_type": "code",
      "metadata": {
        "id": "CQXTqXfAgl78"
      },
      "source": [
        "app_count = play_store_df.groupby(['Category','Type'])[['App']].count().reset_index().rename(columns={'App':'Count','index':'App'})\n"
      ],
      "execution_count": 174,
      "outputs": []
    },
    {
      "cell_type": "code",
      "metadata": {
        "id": "BaQ7dEsKg00_"
      },
      "source": [
        "df_app_count = app_count.pivot('Category', 'Type', 'Count').fillna(0).reset_index()"
      ],
      "execution_count": 175,
      "outputs": []
    },
    {
      "cell_type": "code",
      "metadata": {
        "colab": {
          "base_uri": "https://localhost:8080/",
          "height": 605
        },
        "id": "XDsQm2EKg55H",
        "outputId": "829e23af-d1e3-4b89-a024-6a03bcb9372d"
      },
      "source": [
        "df_app_count.set_index('Category').plot(kind='bar', stacked=True, figsize=(14,7))\n",
        "plt.xlabel(\"Category\", fontsize=15)\n",
        "plt.ylabel(\"Count\", fontsize=15)\n",
        "plt.title(\"Count of applications in each category differentiated by their type\")\n",
        "plt.show()"
      ],
      "execution_count": 185,
      "outputs": [
        {
          "output_type": "display_data",
          "data": {
            "image/png": "[encoded data removed]",
            "text/plain": [
              "<Figure size 1008x504 with 1 Axes>"
            ]
          },
          "metadata": {
            "needs_background": "light"
          }
        }
      ]
    },
    {
      "cell_type": "markdown",
      "metadata": {
        "id": "RadRPEXAe60t"
      },
      "source": [
        "Top 3 category of paid apps and free apps are same Family, Tools and game."
      ]
    },
    {
      "cell_type": "code",
      "metadata": {
        "id": "BfvWVVYRLcra",
        "colab": {
          "base_uri": "https://localhost:8080/"
        },
        "outputId": "4b7f0740-7f7c-4a86-9b38-3b7208db7eaa"
      },
      "source": [
        "user_reviews_df.columns"
      ],
      "execution_count": 177,
      "outputs": [
        {
          "output_type": "execute_result",
          "data": {
            "text/plain": [
              "Index(['App', 'Translated_Review', 'Sentiment', 'Sentiment_Polarity',\n",
              "       'Sentiment_Subjectivity'],\n",
              "      dtype='object')"
            ]
          },
          "metadata": {},
          "execution_count": 177
        }
      ]
    },
    {
      "cell_type": "code",
      "metadata": {
        "id": "uz8LYEVDLnnV",
        "colab": {
          "base_uri": "https://localhost:8080/",
          "height": 295
        },
        "outputId": "776ea38e-7abd-444f-db52-487f007633c7"
      },
      "source": [
        "user_reviews_df.describe()"
      ],
      "execution_count": 178,
      "outputs": [
        {
          "output_type": "execute_result",
          "data": {
            "text/html": [
              "<div>\n",
              "<style scoped>\n",
              "    .dataframe tbody tr th:only-of-type {\n",
              "        vertical-align: middle;\n",
              "    }\n",
              "\n",
              "    .dataframe tbody tr th {\n",
              "        vertical-align: top;\n",
              "    }\n",
              "\n",
              "    .dataframe thead th {\n",
              "        text-align: right;\n",
              "    }\n",
              "</style>\n",
              "<table border=\"1\" class=\"dataframe\">\n",
              "  <thead>\n",
              "    <tr style=\"text-align: right;\">\n",
              "      <th></th>\n",
              "      <th>Sentiment_Polarity</th>\n",
              "      <th>Sentiment_Subjectivity</th>\n",
              "    </tr>\n",
              "  </thead>\n",
              "  <tbody>\n",
              "    <tr>\n",
              "      <th>count</th>\n",
              "      <td>37432.000000</td>\n",
              "      <td>37432.000000</td>\n",
              "    </tr>\n",
              "    <tr>\n",
              "      <th>mean</th>\n",
              "      <td>0.182146</td>\n",
              "      <td>0.492704</td>\n",
              "    </tr>\n",
              "    <tr>\n",
              "      <th>std</th>\n",
              "      <td>0.351301</td>\n",
              "      <td>0.259949</td>\n",
              "    </tr>\n",
              "    <tr>\n",
              "      <th>min</th>\n",
              "      <td>-1.000000</td>\n",
              "      <td>0.000000</td>\n",
              "    </tr>\n",
              "    <tr>\n",
              "      <th>25%</th>\n",
              "      <td>0.000000</td>\n",
              "      <td>0.357143</td>\n",
              "    </tr>\n",
              "    <tr>\n",
              "      <th>50%</th>\n",
              "      <td>0.150000</td>\n",
              "      <td>0.514286</td>\n",
              "    </tr>\n",
              "    <tr>\n",
              "      <th>75%</th>\n",
              "      <td>0.400000</td>\n",
              "      <td>0.650000</td>\n",
              "    </tr>\n",
              "    <tr>\n",
              "      <th>max</th>\n",
              "      <td>1.000000</td>\n",
              "      <td>1.000000</td>\n",
              "    </tr>\n",
              "  </tbody>\n",
              "</table>\n",
              "</div>"
            ],
            "text/plain": [
              "       Sentiment_Polarity  Sentiment_Subjectivity\n",
              "count        37432.000000            37432.000000\n",
              "mean             0.182146                0.492704\n",
              "std              0.351301                0.259949\n",
              "min             -1.000000                0.000000\n",
              "25%              0.000000                0.357143\n",
              "50%              0.150000                0.514286\n",
              "75%              0.400000                0.650000\n",
              "max              1.000000                1.000000"
            ]
          },
          "metadata": {},
          "execution_count": 178
        }
      ]
    },
    {
      "cell_type": "markdown",
      "metadata": {
        "id": "gcuJ424lYhot"
      },
      "source": [
        "About 75 percentile of the time sentiment polarity is around 0.4, which is positive.\n",
        "\n",
        "Subjectivity is between 0 and 1, median subjectivity that was understood was 0.51"
      ]
    },
    {
      "cell_type": "code",
      "metadata": {
        "id": "kLK4UyXsLsDO"
      },
      "source": [
        "df1 = user_reviews_df['Sentiment'].value_counts()\n",
        "df1 = df1.reset_index()\n",
        "def bar_plot(x,y,y_label,title,color):\n",
        "    objects = x.values\n",
        "    y_pos = np.arange(len(objects))\n",
        "    plt.figure(figsize=(10,5))\n",
        "    bar = plt.bar(x,y,color=color)\n",
        "    plt.xticks(y_pos, objects)\n",
        "    plt.ylabel(y_label)\n",
        "    plt.title(title)\n",
        "    \n",
        "    return bar"
      ],
      "execution_count": 179,
      "outputs": []
    },
    {
      "cell_type": "code",
      "metadata": {
        "id": "hxB-HsSfLufj",
        "colab": {
          "base_uri": "https://localhost:8080/"
        },
        "outputId": "774f6c2e-db9c-44c0-d73f-3e322eb04606"
      },
      "source": [
        "df1['index'].values"
      ],
      "execution_count": 180,
      "outputs": [
        {
          "output_type": "execute_result",
          "data": {
            "text/plain": [
              "array(['Positive', 'Negative', 'Neutral'], dtype=object)"
            ]
          },
          "metadata": {},
          "execution_count": 180
        }
      ]
    },
    {
      "cell_type": "code",
      "metadata": {
        "colab": {
          "base_uri": "https://localhost:8080/",
          "height": 361
        },
        "id": "rvzBeZFdZMYC",
        "outputId": "cbc56b0b-be5a-4a95-d91d-ab65fc5182af"
      },
      "source": [
        "bar_plot(x = df1['index'],y = df1['Sentiment'],color='g' ,y_label = 'Sentiment_Freq',title = 'Bar Plot on Sentiment')"
      ],
      "execution_count": 181,
      "outputs": [
        {
          "output_type": "execute_result",
          "data": {
            "text/plain": [
              "<BarContainer object of 3 artists>"
            ]
          },
          "metadata": {},
          "execution_count": 181
        },
        {
          "output_type": "display_data",
          "data": {
            "image/png": "[encoded data removed]",
            "text/plain": [
              "<Figure size 720x360 with 1 Axes>"
            ]
          },
          "metadata": {
            "needs_background": "light"
          }
        }
      ]
    },
    {
      "cell_type": "markdown",
      "metadata": {
        "id": "muQAVmynjBy2"
      },
      "source": [
        "Merging dataframes on apps"
      ]
    },
    {
      "cell_type": "code",
      "metadata": {
        "id": "AS6ZsBVrZPik"
      },
      "source": [
        " merged_df = play_store_df.merge(user_reviews_df, on=\"App\")"
      ],
      "execution_count": 182,
      "outputs": []
    },
    {
      "cell_type": "markdown",
      "metadata": {
        "id": "I6QJfWVnkxl5"
      },
      "source": [
        "What is the Percentage of review sentiments?"
      ]
    },
    {
      "cell_type": "code",
      "metadata": {
        "colab": {
          "base_uri": "https://localhost:8080/",
          "height": 432
        },
        "id": "DjLX0AVOjIO1",
        "outputId": "f33986b8-fab4-4f6a-debf-377c1544dab6"
      },
      "source": [
        "import matplotlib\n",
        "counts = list(merged_df['Sentiment'].value_counts())\n",
        "labels = 'Positive Reviews', 'Negetive Reviews','Neutral Reviews'\n",
        "matplotlib.rcParams['font.size'] = 12\n",
        "matplotlib.rcParams['figure.figsize'] = (14, 7)\n",
        "plt.pie(counts, labels=labels, explode=[0, 0.05, 0.005], shadow=True, autopct=\"%.2f%%\")\n",
        "plt.title('A Pie Chart Representing Percentage of Review Sentimets', fontsize=20)\n",
        "plt.axis('off')\n",
        "plt.legend()\n",
        "plt.show()"
      ],
      "execution_count": 186,
      "outputs": [
        {
          "output_type": "display_data",
          "data": {
            "image/png": "[encoded data removed]",
            "text/plain": [
              "<Figure size 1008x504 with 1 Axes>"
            ]
          },
          "metadata": {}
        }
      ]
    },
    {
      "cell_type": "markdown",
      "metadata": {
        "id": "ITQ63IRXjlbH"
      },
      "source": [
        "Overall users review Sentimets are 64% Positive 20% Negative and 16% Neutral"
      ]
    },
    {
      "cell_type": "markdown",
      "metadata": {
        "id": "18RIC7SMj_gn"
      },
      "source": [
        "# **Conclusion**"
      ]
    },
    {
      "cell_type": "markdown",
      "metadata": {
        "id": "FGCxv4rukD0N"
      },
      "source": [
        "\n",
        "\n",
        "1.   Top 3 genres according to number of apps are Tools, Entertainment,Education but Top 3 genres according to number of apps installed  are Tools, Photography and Arcade.\n",
        "2.   Top 3 category according to number of apps are Family, Tools and game and Top 3 category according to number of apps installed  areFamily, Tools and game.\n",
        "3.   Bulky applications are less installed by the user and this applies for both type of apps paid and free.\n",
        "4.   Most installed apps size is in between 0 to 20mb\n",
        "5.   Top 3 category of paid apps and free apps are same Family, Tools and game.\n",
        "6.   Average Rating is 4.18\n",
        "7.   Overall users review Sentimets are 64% Positive 20% Negative and 16% Neutral\n"
      ]
    }
  ]
}